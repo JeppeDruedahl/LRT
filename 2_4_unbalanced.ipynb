{
 "cells": [
  {
   "cell_type": "markdown",
   "metadata": {},
   "source": [
    "# Setup"
   ]
  },
  {
   "cell_type": "code",
   "execution_count": null,
   "metadata": {
    "ExecuteTime": {
     "end_time": "2019-03-04T15:59:09.015033Z",
     "start_time": "2019-03-04T15:59:05.199379Z"
    }
   },
   "outputs": [],
   "source": [
    "%matplotlib inline\n",
    "%load_ext autoreload\n",
    "%autoreload 2\n",
    "    \n",
    "import time\n",
    "import copy\n",
    "import numpy as np\n",
    "\n",
    "import matplotlib.pyplot as plt\n",
    "from cycler import cycler\n",
    "color_list  = ['#1f77b4','#ff7f0e','#2ca02c','#d62728','#9467bd','#8c564b','#e377c2','#7f7f7f','#bcbd22','#17becf']\n",
    "marker_list = ['o','x','*','v','^','d']\n",
    "plt.rc('axes', prop_cycle=(cycler('color',color_list)))\n",
    "\n",
    "from LRT import LRT\n",
    "from LRT import moments\n",
    "from LRT import figfuns"
   ]
  },
  {
   "cell_type": "markdown",
   "metadata": {},
   "source": [
    "**Setup parameter struct:**"
   ]
  },
  {
   "cell_type": "code",
   "execution_count": null,
   "metadata": {
    "ExecuteTime": {
     "end_time": "2019-03-15T10:44:42.065225Z",
     "start_time": "2019-03-15T10:44:42.033165Z"
    }
   },
   "outputs": [],
   "source": [
    "par = LRT.ParStruct()\n",
    "SAMPLE = '_p100'"
   ]
  },
  {
   "cell_type": "markdown",
   "metadata": {},
   "source": [
    "## Load data"
   ]
  },
  {
   "cell_type": "code",
   "execution_count": null,
   "metadata": {
    "ExecuteTime": {
     "end_time": "2019-03-04T15:59:26.047248Z",
     "start_time": "2019-03-04T15:59:09.090063Z"
    }
   },
   "outputs": [],
   "source": [
    "# a. load\n",
    "data = LRT.dataStruct()\n",
    "data.logY = np.transpose(np.genfromtxt(f'data/logY_unbalanced{SAMPLE}.csv',delimiter=','))\n",
    "\n",
    "par.T, par.N = data.logY.shape\n",
    "print(f'(T,N) = ({par.T},{par.N})')\n",
    "\n",
    "# b. rescale\n",
    "Y = np.exp(data.logY)\n",
    "Y_lev = Y\n",
    "Y = Y / np.nanmean(Y[0,:])\n",
    "data.logY = np.log(Y)\n",
    "    \n",
    "# c. update par\n",
    "par.simN = max([par.N,par.simN])\n",
    "par.k = 5\n",
    "par.k_lead = 5\n",
    "par.depth = 10"
   ]
  },
  {
   "cell_type": "markdown",
   "metadata": {},
   "source": [
    "# Estimate"
   ]
  },
  {
   "cell_type": "code",
   "execution_count": null,
   "metadata": {
    "ExecuteTime": {
     "end_time": "2019-03-04T16:01:46.370332Z",
     "start_time": "2019-03-04T15:59:39.298900Z"
    }
   },
   "outputs": [],
   "source": [
    "model = LRT.estimate(par,data,name='LRT',color=color_list[0])\n",
    "model.marker = marker_list[0]\n",
    "model.name_short = 'LRT'"
   ]
  },
  {
   "cell_type": "markdown",
   "metadata": {},
   "source": [
    "# Simulate"
   ]
  },
  {
   "cell_type": "code",
   "execution_count": null,
   "metadata": {
    "ExecuteTime": {
     "end_time": "2019-03-04T16:04:21.799618Z",
     "start_time": "2019-03-04T16:03:58.414288Z"
    }
   },
   "outputs": [],
   "source": [
    "model.data = LRT.simulate(model.par,model, data)"
   ]
  },
  {
   "cell_type": "markdown",
   "metadata": {},
   "source": [
    "## Moments"
   ]
  },
  {
   "cell_type": "code",
   "execution_count": null,
   "metadata": {
    "ExecuteTime": {
     "end_time": "2019-03-06T07:05:00.103816Z",
     "start_time": "2019-03-06T07:02:24.296876Z"
    }
   },
   "outputs": [],
   "source": [
    "moments.calc_all(par, data,printprogress=True)\n",
    "moments.calc_all(model.par,model.data,printprogress=True)"
   ]
  },
  {
   "cell_type": "markdown",
   "metadata": {},
   "source": [
    "## Figures "
   ]
  },
  {
   "cell_type": "code",
   "execution_count": null,
   "metadata": {
    "ExecuteTime": {
     "end_time": "2019-03-06T12:34:04.888379Z",
     "start_time": "2019-03-06T12:34:03.380943Z"
    }
   },
   "outputs": [],
   "source": [
    "prefix = 'unbalanced'\n",
    "models = [model]\n",
    "\n",
    "figfuns.age_profile(par, data, models, 0, \n",
    "                    varname_str='logY', prefix=prefix)\n",
    "\n",
    "figfuns.age_profile(par, data, models, 1, \n",
    "                    varname_str='dlogY', prefix=prefix)\n",
    "\n",
    "figfuns.age_profile(par, data, models, 5, \n",
    "                    varname_str='dlogY', prefix=prefix)\n",
    "\n",
    "figfuns.heterogenous(par, data, models,\n",
    "                     'dlogY', 0, 'life-time growth (demeaned)',\n",
    "                     prefix=prefix, bounds=(-1.5,1.5))\n",
    "\n",
    "figfuns.heterogenous(par, data, models,\n",
    "                     'autocorr', 1, 'first-order autocorr.',\n",
    "                     prefix=prefix, bounds=(-1,1))\n",
    "\n",
    "figfuns.heterogenous(par, data, models,\n",
    "                     'autocorr_level', 1, 'first-order autocorr. (levels)',\n",
    "                     prefix=prefix, bounds=(-.25,1))\n",
    "\n",
    "figfuns.heterogenous(par, data, models,\n",
    "                     'std_dlogY', 1, 'std. of income growth',\n",
    "                     prefix=prefix, bounds=(0,0.5))"
   ]
  }
 ],
 "metadata": {
  "anaconda-cloud": {},
  "kernelspec": {
   "display_name": "Python 3",
   "language": "python",
   "name": "python3"
  },
  "language_info": {
   "codemirror_mode": {
    "name": "ipython",
    "version": 3
   },
   "file_extension": ".py",
   "mimetype": "text/x-python",
   "name": "python",
   "nbconvert_exporter": "python",
   "pygments_lexer": "ipython3",
   "version": "3.7.4"
  }
 },
 "nbformat": 4,
 "nbformat_minor": 4
}
