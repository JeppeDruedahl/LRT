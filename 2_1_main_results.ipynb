{
 "cells": [
  {
   "cell_type": "markdown",
   "metadata": {},
   "source": [
    "# Setup"
   ]
  },
  {
   "cell_type": "code",
   "execution_count": null,
   "metadata": {
    "ExecuteTime": {
     "end_time": "2019-03-15T10:44:42.006134Z",
     "start_time": "2019-03-15T10:44:16.535389Z"
    }
   },
   "outputs": [],
   "source": [
    "%matplotlib inline\n",
    "%load_ext autoreload\n",
    "%autoreload 2\n",
    "    \n",
    "import time\n",
    "import copy\n",
    "from itertools import product\n",
    "import numpy as np\n",
    "\n",
    "import matplotlib.pyplot as plt\n",
    "from cycler import cycler\n",
    "color_list  = ['#1f77b4','#ff7f0e','#2ca02c','#d62728','#9467bd','#8c564b','#e377c2','#7f7f7f','#bcbd22','#17becf']\n",
    "marker_list = ['o','x','d','v','^','<','>']\n",
    "plt.rc('axes', prop_cycle=(cycler('color',color_list)))\n",
    "\n",
    "from LRT import LRT\n",
    "from LRT import moments\n",
    "from LRT import figfuns\n",
    "from LRT import PT\n",
    "from LRT import PCTBIN"
   ]
  },
  {
   "cell_type": "markdown",
   "metadata": {},
   "source": [
    "**Setup parameter struct:**"
   ]
  },
  {
   "cell_type": "code",
   "execution_count": null,
   "metadata": {
    "ExecuteTime": {
     "end_time": "2019-03-15T10:44:42.065225Z",
     "start_time": "2019-03-15T10:44:42.033165Z"
    }
   },
   "outputs": [],
   "source": [
    "par = LRT.ParStruct()\n",
    "SAMPLE = '_p100'"
   ]
  },
  {
   "cell_type": "markdown",
   "metadata": {},
   "source": [
    "## Load data"
   ]
  },
  {
   "cell_type": "code",
   "execution_count": null,
   "metadata": {
    "ExecuteTime": {
     "end_time": "2019-03-15T10:45:00.767011Z",
     "start_time": "2019-03-15T10:44:42.084243Z"
    }
   },
   "outputs": [],
   "source": [
    "# a. load\n",
    "data = LRT.dataStruct()\n",
    "data.logY = np.transpose(np.genfromtxt(f'data/logY{SAMPLE}.csv',delimiter=','))\n",
    "T, par.N = data.logY.shape\n",
    "\n",
    "# b. rescale\n",
    "Y = np.exp(data.logY)\n",
    "Y_lev = Y\n",
    "Y = Y / np.mean(Y[0,:])\n",
    "data.logY = np.log(Y)\n",
    "\n",
    "# c. save simple data moments\n",
    "mean_Y = np.ones(par.T)    \n",
    "mean_Y_lev = np.ones(par.T)    \n",
    "mean_logY = np.ones(par.T)\n",
    "var_logY = np.ones(par.T)\n",
    "\n",
    "for t in range(par.T):\n",
    "    mean_Y[t] = np.mean(Y[t,:])\n",
    "    mean_Y_lev[t] = np.mean(Y_lev[t,:])        \n",
    "    mean_logY[t] = np.mean(data.logY[t,:])\n",
    "    var_logY[t] = np.var(data.logY[t,:])\n",
    "    \n",
    "np.savetxt(\"data/mean_Y.txt\",mean_Y,delimiter=',',fmt='%f',newline='\\r\\n')\n",
    "np.savetxt(\"data/mean_Y_lev.txt\",mean_Y_lev,delimiter=',',fmt='%f',newline='\\r\\n')\n",
    "np.savetxt(\"data/mean_logY.txt\",mean_logY,delimiter=',',fmt='%f',newline='\\r\\n')\n",
    "np.savetxt(\"data/var_logY.txt\",var_logY,delimiter=',',fmt='%f',newline='\\r\\n')\n",
    "    \n",
    "# d. upgrade simulation for large sample\n",
    "par.simN = max([par.N,par.simN])"
   ]
  },
  {
   "cell_type": "markdown",
   "metadata": {},
   "source": [
    "## Histograms"
   ]
  },
  {
   "cell_type": "code",
   "execution_count": null,
   "metadata": {
    "ExecuteTime": {
     "end_time": "2019-03-15T10:45:04.550841Z",
     "start_time": "2019-03-15T10:45:00.772015Z"
    }
   },
   "outputs": [],
   "source": [
    "ages = np.arange(par.agemin, par.agemax+1)"
   ]
  },
  {
   "cell_type": "markdown",
   "metadata": {},
   "source": [
    "**Histograms** of income **levels**."
   ]
  },
  {
   "cell_type": "code",
   "execution_count": null,
   "metadata": {
    "ExecuteTime": {
     "end_time": "2019-03-15T10:45:04.550841Z",
     "start_time": "2019-03-15T10:45:00.772015Z"
    }
   },
   "outputs": [],
   "source": [
    "pcts = np.percentile(data.logY.flatten(), q=[0.1, 99.9])\n",
    "for i,t in enumerate([0,15,29]): \n",
    "    \n",
    "    fig,ax = figfuns.new()\n",
    "    ax.hist(data.logY[t,:],bins=300)\n",
    "    \n",
    "    ax.set_ylabel('observations')\n",
    "    ax.set_xlabel('log income ($y_{it}$)')\n",
    "    ax.set_xlim(pcts)\n",
    "    \n",
    "    figfuns.save(fig,ax,name=f'hist_inc_level_age{ages[t]}')\n",
    "    plt.close(fig)"
   ]
  },
  {
   "cell_type": "markdown",
   "metadata": {
    "ExecuteTime": {
     "end_time": "2019-03-07T13:17:16.182009Z",
     "start_time": "2019-03-07T13:17:16.168003Z"
    }
   },
   "source": [
    "**Histograms** of income **growth**"
   ]
  },
  {
   "cell_type": "code",
   "execution_count": null,
   "metadata": {
    "ExecuteTime": {
     "end_time": "2019-03-15T10:45:08.619901Z",
     "start_time": "2019-03-15T10:45:04.555819Z"
    }
   },
   "outputs": [],
   "source": [
    "growth = data.logY[1:, :] - data.logY[:-1, :]\n",
    "pcts = np.percentile(growth.flatten(), q=[0.1, 99.9])\n",
    "for i,t in enumerate([0,14,28]): \n",
    "    \n",
    "    fig,ax = figfuns.new()\n",
    "    ax.hist(growth[t,:], bins=500)\n",
    "    \n",
    "    ax.set_ylabel('observations')\n",
    "    ax.set_xlabel('log income differences ($y_{i'+str(t+1)+'} - y_{i'+str(t)+'}$)')\n",
    "    ax.set_xlim(pcts)\n",
    "    \n",
    "    figfuns.save(fig, ax, name=f'hist_inc_growth_age{ages[t+1]}')\n",
    "    plt.close(fig)"
   ]
  },
  {
   "cell_type": "markdown",
   "metadata": {},
   "source": [
    "## Load ABB"
   ]
  },
  {
   "cell_type": "code",
   "execution_count": null,
   "metadata": {
    "ExecuteTime": {
     "end_time": "2019-03-15T10:45:12.155454Z",
     "start_time": "2019-03-15T10:45:08.623912Z"
    }
   },
   "outputs": [],
   "source": [
    "# a. load abb\n",
    "data_abbsim = LRT.dataStruct()\n",
    "data_abbsim.logY = np.transpose(np.genfromtxt('data/abb_sim.csv',delimiter=','))\n",
    "\n",
    "# b. setup\n",
    "par_abb = LRT.ParStruct()\n",
    "par_abb.T, par_abb.N = data_abbsim.logY.shape\n",
    "\n",
    "# c. normalize\n",
    "Y = np.exp(data_abbsim.logY)\n",
    "Y = Y / np.mean(Y[0,:])\n",
    "data_abbsim.logY = np.log(Y)\n",
    "\n",
    "# d. add model details\n",
    "model_abb = LRT.modelStruct()\n",
    "model_abb.data = data_abbsim\n",
    "model_abb.type = 'ABB'\n",
    "model_abb.name = 'ABB'\n",
    "model_abb.name_short = 'ABB'\n",
    "model_abb.par = copy.deepcopy(par)"
   ]
  },
  {
   "cell_type": "markdown",
   "metadata": {},
   "source": [
    "# Estimate and simulate"
   ]
  },
  {
   "cell_type": "markdown",
   "metadata": {},
   "source": [
    "## LRT"
   ]
  },
  {
   "cell_type": "code",
   "execution_count": null,
   "metadata": {
    "ExecuteTime": {
     "end_time": "2019-03-15T10:51:21.018626Z",
     "start_time": "2019-03-15T10:46:08.756968Z"
    }
   },
   "outputs": [],
   "source": [
    "models_LRT = []\n",
    "\n",
    "for depth,name_short,name in zip([7,10],\n",
    "                                 ['LRT_depth_7','LRT_depth_10'],\n",
    "                                 ['LRT (depth 7)','LRT (depth 10)']):\n",
    "\n",
    "    # a. settings\n",
    "    par.k = 5\n",
    "    par.k_lead = 30    \n",
    "    par.depth = depth\n",
    "\n",
    "    # b. estimate\n",
    "    model = LRT.estimate(par,data,name)\n",
    "    model.name_short = name_short\n",
    "    \n",
    "    models_LRT.append(model)\n",
    "\n",
    "prefmodel = models_LRT[-1]"
   ]
  },
  {
   "cell_type": "markdown",
   "metadata": {},
   "source": [
    "**Save:**"
   ]
  },
  {
   "cell_type": "code",
   "execution_count": null,
   "metadata": {
    "ExecuteTime": {
     "end_time": "2019-03-15T10:51:33.778987Z",
     "start_time": "2019-03-15T10:51:21.027637Z"
    }
   },
   "outputs": [],
   "source": [
    "# a. number of leafs\n",
    "np.savetxt(\"data/num_leafs.txt\",prefmodel.num_leafs,delimiter=',',fmt='%d',newline='\\r\\n')\n",
    "\n",
    "# b. initial grouping\n",
    "prob_G_ini = np.ones(prefmodel.num_leafs[0])\n",
    "for i in range(prefmodel.num_leafs[0]):\n",
    "    I = (prefmodel.G[0] == prefmodel.uniqueG[0][i])\n",
    "    prob_G_ini[i] = I.sum()/par.N\n",
    "np.savetxt(\"data/prob_G_ini.txt\",prob_G_ini,delimiter=',',fmt='%f',newline='\\r\\n')\n",
    "        \n",
    "# c. prediction and transitions    \n",
    "for t in range(0,par.T):\n",
    "    \n",
    "    # i. save ypred\n",
    "    filename = \"data/ypred_G_t{:d}.txt\".format(t)\n",
    "    np.savetxt(filename, prefmodel.ypred_G[t],delimiter=',',fmt='%f',newline='\\r\\n')    \n",
    "\n",
    "    # ii. distribution over groups\n",
    "    maxG = np.amax(prefmodel.uniqueG[t])\n",
    "    count = np.bincount(prefmodel.G[t], minlength=maxG+1)    \n",
    "    minnum = np.min(count[prefmodel.uniqueG[t]])\n",
    "    p50num = np.int(np.median(count[prefmodel.uniqueG[t]]))\n",
    "    maxnum = np.max(count[prefmodel.uniqueG[t]])  \n",
    "    \n",
    "    if t == 0:\n",
    "        continue\n",
    "        \n",
    "    # iii. save trans   \n",
    "    trans = np.copy(prefmodel.trans_obs[t])\n",
    "    filename = \"data/trans_t{:d}.txt\".format(t)\n",
    "    np.savetxt(filename,trans,delimiter=',',fmt='%d',newline='\\r\\n') "
   ]
  },
  {
   "cell_type": "markdown",
   "metadata": {},
   "source": [
    "**Simulate:**"
   ]
  },
  {
   "cell_type": "code",
   "execution_count": null,
   "metadata": {
    "ExecuteTime": {
     "end_time": "2019-03-15T10:52:09.716732Z",
     "start_time": "2019-03-15T10:51:33.824031Z"
    }
   },
   "outputs": [],
   "source": [
    "for model in models_LRT:\n",
    "    model.data = LRT.simulate(model.par, model, data)"
   ]
  },
  {
   "cell_type": "markdown",
   "metadata": {},
   "source": [
    "## PT"
   ]
  },
  {
   "cell_type": "code",
   "execution_count": null,
   "metadata": {
    "ExecuteTime": {
     "end_time": "2019-03-15T10:52:12.442338Z",
     "start_time": "2019-03-15T10:52:09.721706Z"
    }
   },
   "outputs": [],
   "source": [
    "# a. estimates\n",
    "model_PT = PT.estimate(par,data)\n",
    "\n",
    "# b. simulate          \n",
    "model_PT.data = PT.simulate(model_PT.par, model_PT, data)\n",
    "\n",
    "# c. save\n",
    "np.savetxt(\"output/PT_estimates.txt\",np.array([model_PT.sigma_psi,model_PT.sigma_xi,model_PT.P_ini_std]),\n",
    "           delimiter=',',fmt='%f',newline='\\r\\n')"
   ]
  },
  {
   "cell_type": "markdown",
   "metadata": {},
   "source": [
    "## PCTBIN"
   ]
  },
  {
   "cell_type": "code",
   "execution_count": null,
   "metadata": {
    "ExecuteTime": {
     "end_time": "2019-03-15T10:52:27.419845Z",
     "start_time": "2019-03-15T10:52:19.351013Z"
    }
   },
   "outputs": [],
   "source": [
    "# a. estimate \n",
    "model_PCTBIN = PCTBIN.estimate(par,data, num_bins=20)\n",
    "\n",
    "# b. simulate\n",
    "model_PCTBIN.data = PCTBIN.simulate(model_PCTBIN,data)"
   ]
  },
  {
   "cell_type": "markdown",
   "metadata": {},
   "source": [
    "## List of models"
   ]
  },
  {
   "cell_type": "code",
   "execution_count": null,
   "metadata": {
    "ExecuteTime": {
     "end_time": "2019-03-15T10:52:27.437862Z",
     "start_time": "2019-03-15T10:52:27.424823Z"
    }
   },
   "outputs": [],
   "source": [
    "models = [models_LRT[0],models_LRT[1],model_PT,model_PCTBIN,model_abb]\n",
    "\n",
    "# colors and markers\n",
    "for i,model in enumerate(models): \n",
    "    model.color = color_list[i]\n",
    "    model.marker = marker_list[i]"
   ]
  },
  {
   "cell_type": "markdown",
   "metadata": {},
   "source": [
    "## Group means "
   ]
  },
  {
   "cell_type": "code",
   "execution_count": null,
   "metadata": {
    "ExecuteTime": {
     "end_time": "2019-03-15T10:52:30.569861Z",
     "start_time": "2019-03-15T10:52:27.472900Z"
    }
   },
   "outputs": [],
   "source": [
    "for model in models_LRT + [model_PCTBIN]:\n",
    "    \n",
    "    fig, ax = figfuns.new()\n",
    "    ages = np.arange(par.agemin, par.agemax+1)\n",
    "    \n",
    "    for t in range(par.T): \n",
    "        \n",
    "        y = model.ypred_G[t]\n",
    "        age = ages[t]*np.random.normal(loc=1.0,scale=0.0,size=y.shape)\n",
    "        ax.plot(age, y, linestyle='', marker='o',markersize=2,color=model.color)\n",
    "        \n",
    "        ax.set_ylabel('log income ($\\mu_{gt}$)')\n",
    "        ax.set_xlabel('age')\n",
    "        \n",
    "        figfuns.save(fig,ax,f'group_means_of_income_{model.name_short}')\n",
    "        plt.close()"
   ]
  },
  {
   "cell_type": "markdown",
   "metadata": {},
   "source": [
    "## Transition rates"
   ]
  },
  {
   "cell_type": "code",
   "execution_count": null,
   "metadata": {},
   "outputs": [],
   "source": [
    "def censor_trans_mat(trans_mat, trans_obs): \n",
    "    \n",
    "    Y = copy.deepcopy(trans_mat)\n",
    "    I = (trans_obs<=5) & (trans_obs>0)\n",
    "    Y = Y**0.75\n",
    "    \n",
    "    return Y\n",
    "\n",
    "def plot_trans_mat(model,t): \n",
    "    \n",
    "    fig,ax = figfuns.new() \n",
    "    ax.grid(False)\n",
    "    \n",
    "    Y = censor_trans_mat(model.trans[t], model.trans_obs[t])\n",
    "    ax.imshow(Y, cmap='hot_r', interpolation='nearest')\n",
    "    \n",
    "    ax.set_xlabel(f'groups $t={t+1}$')\n",
    "    ax.set_ylabel(f'groups $t={t}$')\n",
    "    ax.set_yticks([])\n",
    "    ax.set_xticks([])\n",
    "    ax.set_yticklabels([])\n",
    "    \n",
    "    fig.tight_layout() \n",
    "    figfuns.save(fig,ax,name=f'trans_mat_{model.name_short}')\n",
    "    plt.close()\n",
    "    "
   ]
  },
  {
   "cell_type": "code",
   "execution_count": null,
   "metadata": {},
   "outputs": [],
   "source": [
    "t = 10    \n",
    "for model in [models_LRT[0],models_LRT[1],model_PCTBIN]:\n",
    "    plot_trans_mat(model,10)"
   ]
  },
  {
   "cell_type": "markdown",
   "metadata": {
    "ExecuteTime": {
     "end_time": "2019-02-26T10:35:08.687969Z",
     "start_time": "2019-02-26T10:35:08.672951Z"
    }
   },
   "source": [
    "# Moments"
   ]
  },
  {
   "cell_type": "code",
   "execution_count": null,
   "metadata": {
    "ExecuteTime": {
     "end_time": "2019-03-15T10:55:33.897954Z",
     "start_time": "2019-03-15T10:52:30.600891Z"
    }
   },
   "outputs": [],
   "source": [
    "moments.calc_all(par,data,printprogress=True) "
   ]
  },
  {
   "cell_type": "code",
   "execution_count": null,
   "metadata": {
    "ExecuteTime": {
     "end_time": "2019-03-15T11:08:16.158100Z",
     "start_time": "2019-03-15T10:55:33.905973Z"
    },
    "scrolled": true
   },
   "outputs": [],
   "source": [
    "for model in models:\n",
    "    print(model.name)    \n",
    "    moments.calc_all(model.par,model.data,printprogress=True)  "
   ]
  },
  {
   "cell_type": "markdown",
   "metadata": {},
   "source": [
    "# Figures "
   ]
  },
  {
   "cell_type": "markdown",
   "metadata": {},
   "source": [
    "## Levels (life-cycle profile)  "
   ]
  },
  {
   "cell_type": "code",
   "execution_count": null,
   "metadata": {
    "ExecuteTime": {
     "end_time": "2019-03-15T11:08:18.069911Z",
     "start_time": "2019-03-15T11:08:16.166107Z"
    }
   },
   "outputs": [],
   "source": [
    "figfuns.age_profile(par, data, models, 0, varname_str='logY', prefix='compare')"
   ]
  },
  {
   "cell_type": "markdown",
   "metadata": {},
   "source": [
    "## Changes (life-cycle profile)  "
   ]
  },
  {
   "cell_type": "code",
   "execution_count": null,
   "metadata": {
    "ExecuteTime": {
     "end_time": "2019-03-15T11:08:20.188949Z",
     "start_time": "2019-03-15T11:08:18.074915Z"
    },
    "scrolled": true
   },
   "outputs": [],
   "source": [
    "figfuns.age_profile(par, data, models, 1, \n",
    "                    varname_str='dlogY', prefix='compare')"
   ]
  },
  {
   "cell_type": "markdown",
   "metadata": {},
   "source": [
    "##  5-year changes (life-cycle profile)  "
   ]
  },
  {
   "cell_type": "code",
   "execution_count": null,
   "metadata": {
    "ExecuteTime": {
     "end_time": "2019-03-15T11:08:22.843435Z",
     "start_time": "2019-03-15T11:08:20.194955Z"
    }
   },
   "outputs": [],
   "source": [
    "figfuns.age_profile(par, data, models, 5, \n",
    "                    varname_str='dlogY', prefix='compare')"
   ]
  },
  {
   "cell_type": "markdown",
   "metadata": {},
   "source": [
    "##  10-year changes (life-cycle profile)  "
   ]
  },
  {
   "cell_type": "code",
   "execution_count": null,
   "metadata": {
    "ExecuteTime": {
     "end_time": "2019-03-15T11:08:26.606998Z",
     "start_time": "2019-03-15T11:08:22.849442Z"
    },
    "scrolled": true
   },
   "outputs": [],
   "source": [
    "figfuns.age_profile(par, data, models, 10, \n",
    "                    varname_str='dlogY', prefix='compare')"
   ]
  },
  {
   "cell_type": "markdown",
   "metadata": {},
   "source": [
    "## Changes (over recent income and age-groups)  "
   ]
  },
  {
   "cell_type": "code",
   "execution_count": null,
   "metadata": {
    "ExecuteTime": {
     "end_time": "2019-03-15T11:09:04.795205Z",
     "start_time": "2019-03-15T11:08:26.615036Z"
    }
   },
   "outputs": [],
   "source": [
    "for model in models:\n",
    "    k = 1\n",
    "    for mom_str in ['mean','var','skew','kurt']:\n",
    "\n",
    "        figfuns.REpercs_profile(par, data, model, k, mom_str,\n",
    "                                varname_str='dlogY',\n",
    "                                age_grp_str='detail',\n",
    "                                perc_grp_str='RE', modelname= model.name_short)\n"
   ]
  },
  {
   "cell_type": "markdown",
   "metadata": {},
   "source": [
    "## 5-year changes (over RE and age-groups)"
   ]
  },
  {
   "cell_type": "code",
   "execution_count": null,
   "metadata": {
    "ExecuteTime": {
     "end_time": "2019-03-15T11:09:40.650186Z",
     "start_time": "2019-03-15T11:09:04.802213Z"
    }
   },
   "outputs": [],
   "source": [
    "for model in models:\n",
    "    k = 5\n",
    "    for mom_str in ['mean','var','skew','kurt']:\n",
    "\n",
    "        figfuns.REpercs_profile(par, data, model, k, mom_str,\n",
    "                                varname_str='dlogY',\n",
    "                                age_grp_str='detail',\n",
    "                                perc_grp_str='RE', modelname=model.name_short)\n"
   ]
  },
  {
   "cell_type": "markdown",
   "metadata": {},
   "source": [
    "## 10-year changes (over RE and age-groups)"
   ]
  },
  {
   "cell_type": "code",
   "execution_count": null,
   "metadata": {
    "ExecuteTime": {
     "end_time": "2019-03-15T11:10:16.782400Z",
     "start_time": "2019-03-15T11:09:40.657147Z"
    }
   },
   "outputs": [],
   "source": [
    "for model in models:\n",
    "    k = 10\n",
    "    for mom_str in ['mean','var','skew','kurt']:\n",
    "\n",
    "        figfuns.REpercs_profile(par, data, model, k, mom_str,\n",
    "                                varname_str='dlogY',\n",
    "                                age_grp_str='detail',\n",
    "                                perc_grp_str='RE', modelname=model.name_short)"
   ]
  },
  {
   "cell_type": "markdown",
   "metadata": {},
   "source": [
    "## Covariances over age "
   ]
  },
  {
   "cell_type": "code",
   "execution_count": null,
   "metadata": {
    "ExecuteTime": {
     "end_time": "2019-03-15T11:10:23.059346Z",
     "start_time": "2019-03-15T11:10:16.789402Z"
    },
    "scrolled": true
   },
   "outputs": [],
   "source": [
    "for model in models:\n",
    "    prefix = model.name_short    \n",
    "    figfuns.cov(par, data, model, prefix=prefix)"
   ]
  },
  {
   "cell_type": "markdown",
   "metadata": {},
   "source": [
    "## Autocorrelations  "
   ]
  },
  {
   "cell_type": "code",
   "execution_count": null,
   "metadata": {
    "ExecuteTime": {
     "end_time": "2019-03-15T11:10:31.970760Z",
     "start_time": "2019-03-15T11:10:23.066321Z"
    },
    "scrolled": true
   },
   "outputs": [],
   "source": [
    "for model in models:\n",
    "    figfuns.autocorr(par, data, model, k_list=[1,2,5],\n",
    "                     varname_str='dlogY',\n",
    "                     modelname=model.name_short)"
   ]
  },
  {
   "cell_type": "code",
   "execution_count": null,
   "metadata": {
    "ExecuteTime": {
     "end_time": "2019-03-15T11:10:50.645478Z",
     "start_time": "2019-03-15T11:10:42.111394Z"
    },
    "scrolled": true
   },
   "outputs": [],
   "source": [
    "for model in models:\n",
    "    figfuns.autocorr(par, data, model, k_list=[1,2,5],\n",
    "                     varname_str='logY',\n",
    "                     modelname=model.name_short)"
   ]
  },
  {
   "cell_type": "markdown",
   "metadata": {},
   "source": [
    "## Covariances of levels and future growth "
   ]
  },
  {
   "cell_type": "code",
   "execution_count": null,
   "metadata": {
    "ExecuteTime": {
     "end_time": "2019-03-15T11:10:42.104359Z",
     "start_time": "2019-03-15T11:10:31.976793Z"
    }
   },
   "outputs": [],
   "source": [
    "for model in models: \n",
    "    figfuns.cov_YdY(par,data,model,prefix=model.name_short)"
   ]
  },
  {
   "cell_type": "markdown",
   "metadata": {},
   "source": [
    "## Heterogeneity"
   ]
  },
  {
   "cell_type": "code",
   "execution_count": null,
   "metadata": {
    "ExecuteTime": {
     "end_time": "2019-03-15T11:10:53.253989Z",
     "start_time": "2019-03-15T11:10:50.651453Z"
    }
   },
   "outputs": [],
   "source": [
    "figfuns.heterogenous(par, data, models,\n",
    "                     'dlogY', 0, 'life-time growth (demeaned)',\n",
    "                     prefix='compare', bounds=(-1.5,1.5))"
   ]
  },
  {
   "cell_type": "code",
   "execution_count": null,
   "metadata": {
    "ExecuteTime": {
     "end_time": "2019-03-15T11:10:54.724341Z",
     "start_time": "2019-03-15T11:10:53.260925Z"
    }
   },
   "outputs": [],
   "source": [
    "figfuns.heterogenous(par, data, models,\n",
    "                     'autocorr', 1, 'first-order autocorr.',\n",
    "                     prefix='compare', bounds=(-1,1))"
   ]
  },
  {
   "cell_type": "code",
   "execution_count": null,
   "metadata": {
    "ExecuteTime": {
     "end_time": "2019-03-15T11:10:56.187698Z",
     "start_time": "2019-03-15T11:10:54.733350Z"
    }
   },
   "outputs": [],
   "source": [
    "figfuns.heterogenous(par, data, models,\n",
    "                     'autocorr_level', 1, 'first-order autocorr. (levels)',\n",
    "                     prefix='compare', bounds=(-.25,1))"
   ]
  },
  {
   "cell_type": "code",
   "execution_count": null,
   "metadata": {
    "ExecuteTime": {
     "end_time": "2019-03-15T11:10:57.924347Z",
     "start_time": "2019-03-15T11:10:56.214723Z"
    },
    "scrolled": true
   },
   "outputs": [],
   "source": [
    "figfuns.heterogenous(par, data, models,\n",
    "                     'std_dlogY', 1, 'std. of income growth',\n",
    "                     prefix='compare', bounds=(0,0.5))"
   ]
  },
  {
   "cell_type": "markdown",
   "metadata": {},
   "source": [
    "## Compare fit across models for single  age group over RE percs "
   ]
  },
  {
   "cell_type": "code",
   "execution_count": null,
   "metadata": {
    "ExecuteTime": {
     "end_time": "2019-03-15T11:10:58.722102Z",
     "start_time": "2019-03-15T10:46:09.173Z"
    }
   },
   "outputs": [],
   "source": [
    "for k,iage in product([1,5],[0,4]):\n",
    "    mom_str = 'mean' \n",
    "    figfuns.REpercs_profile_compare_models(par,data,models,k,mom_str,\n",
    "                                           varname_str='dlogY',age_grp_str='detail',perc_grp_str='RE',iage=iage,\n",
    "                                           prefix='compare')"
   ]
  },
  {
   "cell_type": "markdown",
   "metadata": {
    "ExecuteTime": {
     "end_time": "2019-02-26T16:45:57.027649Z",
     "start_time": "2019-02-26T16:45:57.016663Z"
    }
   },
   "source": [
    "## Within vs. between"
   ]
  },
  {
   "cell_type": "code",
   "execution_count": null,
   "metadata": {
    "ExecuteTime": {
     "end_time": "2019-03-15T13:00:06.206532Z",
     "start_time": "2019-03-15T12:58:05.309696Z"
    }
   },
   "outputs": [],
   "source": [
    "for mom in [2,3,4]: \n",
    "    figfuns.moments_within_groups(data, models[1],  marker_list, color_list, \n",
    "                                  central_moment=mom, kk=[1,5,10], \n",
    "                                  prefix=models[1].name_short)"
   ]
  }
 ],
 "metadata": {
  "anaconda-cloud": {},
  "kernelspec": {
   "display_name": "Python 3",
   "language": "python",
   "name": "python3"
  },
  "language_info": {
   "codemirror_mode": {
    "name": "ipython",
    "version": 3
   },
   "file_extension": ".py",
   "mimetype": "text/x-python",
   "name": "python",
   "nbconvert_exporter": "python",
   "pygments_lexer": "ipython3",
   "version": "3.7.4"
  },
  "toc-autonumbering": true
 },
 "nbformat": 4,
 "nbformat_minor": 4
}
