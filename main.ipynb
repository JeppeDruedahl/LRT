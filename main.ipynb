{
 "cells": [
  {
   "cell_type": "markdown",
   "metadata": {},
   "source": [
    "# Setup"
   ]
  },
  {
   "cell_type": "code",
   "execution_count": null,
   "metadata": {},
   "outputs": [],
   "source": [
    "import os\n",
    "import joblib"
   ]
  },
  {
   "cell_type": "code",
   "execution_count": null,
   "metadata": {},
   "outputs": [],
   "source": [
    "online = False"
   ]
  },
  {
   "cell_type": "code",
   "execution_count": null,
   "metadata": {},
   "outputs": [],
   "source": [
    "baseline = True\n",
    "ABB_ESTIMATE = True\n",
    "\n",
    "do_sas = baseline\n",
    "do_stata = baseline\n",
    "do_ABB = baseline\n",
    "do_LRT = baseline\n",
    "do_ConSav = baseline"
   ]
  },
  {
   "cell_type": "markdown",
   "metadata": {},
   "source": [
    "# Functions to call SAS, Stata and MATLAB"
   ]
  },
  {
   "cell_type": "code",
   "execution_count": null,
   "metadata": {},
   "outputs": [],
   "source": [
    "def run_sas(file):\n",
    "    \n",
    "    # a. run\n",
    "    sasexe = '\"C:/Program Files/SASHome/SASFoundation/9.4/sas.exe\"'\n",
    "    out = os.system(f'{sasexe} -sysin {os.getcwd()}/{file}.sas -ICON -NOSPLASH')\n",
    "    \n",
    "    # b. check if terminated succesfully\n",
    "    if out == 0:\n",
    "        print(f'{file} terminated succesfully')\n",
    "    else:\n",
    "        raise Exception(f'{file} did not terminate succesfully')    \n",
    "        \n",
    "    # c. clean up\n",
    "    os.remove(f'{file}.log')        "
   ]
  },
  {
   "cell_type": "code",
   "execution_count": null,
   "metadata": {},
   "outputs": [],
   "source": [
    "def run_stata(file):\n",
    "    \n",
    "    # a. run\n",
    "    stataexe = '\"C:\\Program Files (x86)\\Stata15\\StataMP-64.exe\"'\n",
    "    os.system(f'{stataexe} /UseRegistryStartin /e {os.getcwd()}/{file}.do')\n",
    "    \n",
    "    # b. check if terminated succesfully\n",
    "    with open(f'{file}.log') as logfile:\n",
    "        lastline = list(logfile)[-1]\n",
    "        if lastline == 'end of do-file\\n':\n",
    "            print(f'{file} terminated succesfully')\n",
    "        else:\n",
    "            raise Exception(f'{file} did not terminate succesfully\\n {lastline}')\n",
    "    \n",
    "    # c. clean up\n",
    "    os.remove(f'{file}.log')"
   ]
  },
  {
   "cell_type": "code",
   "execution_count": null,
   "metadata": {},
   "outputs": [],
   "source": [
    "def run_matlab(file):\n",
    "    \n",
    "    # a. run\n",
    "    out = os.system('matlab -nosplash -nodesktop -wait -r \"run(' + \"'\" + f'{os.getcwd()}/{file}' + \".m');exit;\")\n",
    "    \n",
    "    # b. check if terminated succesfully\n",
    "    if out == 0:\n",
    "        print(f'{file} terminated succesfully')\n",
    "    else:\n",
    "        raise Exception(f'{file} did not terminate succesfully')    "
   ]
  },
  {
   "cell_type": "code",
   "execution_count": null,
   "metadata": {},
   "outputs": [],
   "source": [
    "def run_jupyter(file):\n",
    "    \n",
    "    os.system(f'jupyter nbconvert --to notebook --execute --ExecutePreprocessor.timeout=-1 --inplace \"{file}.ipynb\"')\n",
    "    "
   ]
  },
  {
   "cell_type": "code",
   "execution_count": null,
   "metadata": {},
   "outputs": [],
   "source": [
    "def run_jupyter_parallel(files):\n",
    "    \n",
    "    tasks = (joblib.delayed(run_jupyter)(ipynbfile) for ipynbfile,do in ipynbfiles if do)\n",
    "    joblib.Parallel(n_jobs=len(files))(tasks)\n"
   ]
  },
  {
   "cell_type": "markdown",
   "metadata": {},
   "source": [
    "# Fetch data and select sample(s)"
   ]
  },
  {
   "cell_type": "markdown",
   "metadata": {},
   "source": [
    "**Inputs:**\n",
    "\n",
    "1. Danish register data (INDUPD, BEF, FAIN, IDAP, with views located in H:/Rawdata/706248/views/)\n",
    "2. Consumer price data: data/PRIS61.xlsx (from Statistikbanken.dk)\n",
    "3. House price data: data/EJEN6.xlsx (from Statistikbanken.dk)"
   ]
  },
  {
   "cell_type": "markdown",
   "metadata": {},
   "source": [
    "## Run SAS"
   ]
  },
  {
   "cell_type": "code",
   "execution_count": null,
   "metadata": {},
   "outputs": [],
   "source": [
    "# a. setup\n",
    "sasfiles = [('0_1_import_datasets',True),\n",
    "            ('0_2_merge_datasets',True),\n",
    "            ('0_3_export_datasets',True)]\n",
    "\n",
    "# b. run\n",
    "if do_sas and online:\n",
    "    [run_sas(sasfile) for sasfile,do in sasfiles if do]"
   ]
  },
  {
   "cell_type": "markdown",
   "metadata": {},
   "source": [
    "**Output:** data/sample_raw.dta"
   ]
  },
  {
   "cell_type": "markdown",
   "metadata": {},
   "source": [
    "## Run STATA"
   ]
  },
  {
   "cell_type": "code",
   "execution_count": null,
   "metadata": {},
   "outputs": [],
   "source": [
    "# a. setup\n",
    "statafiles = [('1_1_construct_deflator',True),\n",
    "              ('1_2_construct_deflator_house',True),\n",
    "              ('1_3_deflate',True),\n",
    "              ('1_4_export_csv',True)]\n",
    "\n",
    "# b. run\n",
    "if do_stata and online:\n",
    "    [run_stata(statafile) for statafile,do in statafiles if do]"
   ]
  },
  {
   "cell_type": "markdown",
   "metadata": {},
   "source": [
    "**Output:**\n",
    "\n",
    "1. data/logY_SAMPLE.csv\n",
    "2, data/logY_raw_SAMPLE.csv\n",
    "3. data/birthyear_SAMPLE.csv\n",
    "4. data/a_mean_SAMPLE.csv\n",
    "5. data/a_p50_SAMPLE.csv\n",
    "6. data/Y_zerocutoff_SAMPLE.csv\n",
    "7. data/logY_unbalanced_SAMPLE.csv\n",
    "\n",
    "**Results:**\n",
    "\n",
    "1. output/units.xls\n",
    "2. output/totobs.xls\n",
    "3. output/units_zerocutoff.xls\n",
    "4. output/totobs_zerocutoff.xls\n",
    "5. output/units_unbalanced.xls\n",
    "6. output/totobs_unbalanced.xls"
   ]
  },
  {
   "cell_type": "markdown",
   "metadata": {},
   "source": [
    "# Replication"
   ]
  },
  {
   "cell_type": "code",
   "execution_count": null,
   "metadata": {},
   "outputs": [],
   "source": [
    "if not online:\n",
    "    run_jupyter('replication')"
   ]
  },
  {
   "cell_type": "markdown",
   "metadata": {},
   "source": [
    "# Arellano-Blundell-Bonhomme"
   ]
  },
  {
   "cell_type": "code",
   "execution_count": null,
   "metadata": {},
   "outputs": [],
   "source": [
    "# a. setup\n",
    "mfiles = [('ABB/run_estimate',ABB_ESTIMATE), \n",
    "          ('ABB/run_simulate',True)]\n",
    "\n",
    "# b. run\n",
    "if do_ABB:\n",
    "    if online:\n",
    "        [run_matlab(mfile) for mfile,do in mfiles if do]\n",
    "    else:\n",
    "        run_matlab('ABB/run_simulate')"
   ]
  },
  {
   "cell_type": "markdown",
   "metadata": {},
   "source": [
    "**Output:** data/abb_sim.csv"
   ]
  },
  {
   "cell_type": "markdown",
   "metadata": {},
   "source": [
    "# LRT"
   ]
  },
  {
   "cell_type": "code",
   "execution_count": null,
   "metadata": {},
   "outputs": [],
   "source": [
    "# a. setup\n",
    "ipynbfiles = [('2_1_main_results',True),\n",
    "              ('2_2_cross_validation',True),\n",
    "              ('2_3_attrition',True),\n",
    "              ('2_4_unbalanced',True),\n",
    "              ('2_5_levels',True),\n",
    "              ('2_6_cohorts',True)]\n",
    "\n",
    "# b. run\n",
    "if do_LRT:\n",
    "    run_jupyter_parallel(ipynbfiles)\n",
    "    \n",
    "# c. export\n",
    "if do_LRT and online:\n",
    "    run_jupyter('2_7_censor_data_and_export')"
   ]
  },
  {
   "cell_type": "markdown",
   "metadata": {},
   "source": [
    "**Output:**\n",
    "\n",
    "1. data/mean_logY.txt.txt\n",
    "2. data/mean_Y.txt\n",
    "3. data/mean_Y_lev.txt\n",
    "4. data/num_leafs.txt\n",
    "5. data/prob_G_ini.txt\n",
    "6. data/var_logY.txt\n",
    "7. data/ypred_G_t*.txt\n",
    "8. data/tran_t*.txt\n",
    "9. censored_estimates/*\n",
    "\n",
    "**Results:**\n",
    "\n",
    "1. output/PT_estimates.txt\n",
    "2. output/*.pdf"
   ]
  },
  {
   "cell_type": "markdown",
   "metadata": {},
   "source": [
    "# Consumption-saving model"
   ]
  },
  {
   "cell_type": "code",
   "execution_count": null,
   "metadata": {},
   "outputs": [],
   "source": [
    "# a. setup\n",
    "mfiles = [('ConSav/run',True)]\n",
    "\n",
    "# b. run\n",
    "if do_ConSav:\n",
    "    [run_matlab(mfile) for mfile,do in mfiles if do]"
   ]
  },
  {
   "cell_type": "markdown",
   "metadata": {},
   "source": [
    "**Results:**\n",
    "\n",
    "1. output/ConSav/main_table.tex\n",
    "2. output/ConSav/*.pdf\n",
    "3. output/ConSavEstimates/*.mat"
   ]
  }
 ],
 "metadata": {
  "kernelspec": {
   "display_name": "Python 3",
   "language": "python",
   "name": "python3"
  },
  "language_info": {
   "codemirror_mode": {
    "name": "ipython",
    "version": 3
   },
   "file_extension": ".py",
   "mimetype": "text/x-python",
   "name": "python",
   "nbconvert_exporter": "python",
   "pygments_lexer": "ipython3",
   "version": "3.7.4"
  },
  "toc-autonumbering": true
 },
 "nbformat": 4,
 "nbformat_minor": 4
}
