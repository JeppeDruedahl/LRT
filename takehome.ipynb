{
 "cells": [
  {
   "cell_type": "code",
   "execution_count": 1,
   "metadata": {},
   "outputs": [],
   "source": [
    "import os\n",
    "import shutil\n",
    "import glob\n",
    "import time"
   ]
  },
  {
   "cell_type": "markdown",
   "metadata": {},
   "source": [
    "# Figures"
   ]
  },
  {
   "cell_type": "code",
   "execution_count": null,
   "metadata": {},
   "outputs": [],
   "source": [
    "if os.path.isdir('takehome'):\n",
    "    shutil.rmtree('takehome')\n",
    "time.sleep(2)\n",
    "os.mkdir('takehome')\n",
    "os.mkdir('takehome/ConSav')"
   ]
  },
  {
   "cell_type": "code",
   "execution_count": null,
   "metadata": {},
   "outputs": [],
   "source": [
    "# a. choose batch size\n",
    "batch = 50\n",
    "\n",
    "# b. copy to sub-folder\n",
    "files = []\n",
    "for ext in ['pdf','tex','xls','txt']:\n",
    "    files.extend(glob.glob(f'output/*.{ext}'))\n",
    "for i,file in enumerate(files):\n",
    "    if i==0 or i%batch==0:\n",
    "        dirnow = f'takehome/{i+1}_{i+batch}'\n",
    "        os.mkdir(dirnow)\n",
    "    dst = dirnow + '/' + file.split('\\\\')[1]\n",
    "    shutil.copyfile(file,dst)\n",
    "    \n",
    "# c. consav copy to sub-folder\n",
    "files = []\n",
    "for ext in ['pdf','tex','xls','txt']:\n",
    "    files.extend(glob.glob(f'output/ConSav/*.{ext}'))\n",
    "for i,file in enumerate(files):\n",
    "    if i==0 or i%batch==0:\n",
    "        dirnow = f'takehome/ConSav/{i+1}_{i+batch}'\n",
    "        os.mkdir(dirnow)\n",
    "    dst = dirnow + '/' + file.split('\\\\')[1]\n",
    "    shutil.copyfile(file,dst)"
   ]
  },
  {
   "cell_type": "markdown",
   "metadata": {},
   "source": [
    "# Code"
   ]
  },
  {
   "cell_type": "code",
   "execution_count": null,
   "metadata": {},
   "outputs": [],
   "source": [
    "if os.path.isdir('takehome_code'):\n",
    "    shutil.rmtree('takehome_code')\n",
    "time.sleep(2)    \n",
    "os.mkdir('takehome_code')"
   ]
  },
  {
   "cell_type": "code",
   "execution_count": null,
   "metadata": {},
   "outputs": [],
   "source": [
    "# a. data\n",
    "files = glob.glob('data/*.xlsx')\n",
    "for i,file in enumerate(files):\n",
    "    dst = 'takehome_code' + '/data_' + file.split('\\\\')[1]\n",
    "    shutil.copyfile(file,dst)\n",
    "    \n",
    "# b. code\n",
    "for (dirpath,dirnames,filenames) in os.walk(os.getcwd()):\n",
    "    \n",
    "    # i. dir\n",
    "    if dirpath == 'K:\\\\Workdata\\\\706248\\\\LRT':\n",
    "        dirpathshort = ''\n",
    "    else:\n",
    "        dirpathshort = dirpath.split('K:\\\\Workdata\\\\706248\\\\LRT\\\\')[1]        \n",
    "    \n",
    "    if not dirpathshort in ['','ABB','ConSav','ConSav\\cfuncs','ConSav\\cfuncs\\includes','LRT']:\n",
    "        continue\n",
    "        \n",
    "    dirpathshort = dirpathshort.replace('\\\\','__')\n",
    "        \n",
    "    # ii. file\n",
    "    for filename in filenames:\n",
    "        \n",
    "        body = filename.split('.')[0]\n",
    "        ext = filename.split('.')[1]\n",
    "        \n",
    "        if not ext in ['sas','do','m','cpp','ipynb','md']:\n",
    "            continue\n",
    "            \n",
    "        if body in ['make_takehome']:\n",
    "            continue\n",
    "            \n",
    "        src = dirpath + '\\\\' + filename\n",
    "        dst = 'takehome_code/' +  dirpathshort + '__' + body + '__' + ext + '.txt'\n",
    "        \n",
    "        shutil.copyfile(src,dst)"
   ]
  }
 ],
 "metadata": {
  "kernelspec": {
   "display_name": "Python 3",
   "language": "python",
   "name": "python3"
  },
  "language_info": {
   "codemirror_mode": {
    "name": "ipython",
    "version": 3
   },
   "file_extension": ".py",
   "mimetype": "text/x-python",
   "name": "python",
   "nbconvert_exporter": "python",
   "pygments_lexer": "ipython3",
   "version": "3.7.3"
  }
 },
 "nbformat": 4,
 "nbformat_minor": 2
}
