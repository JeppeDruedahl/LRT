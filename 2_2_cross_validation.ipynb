{
 "cells": [
  {
   "cell_type": "markdown",
   "metadata": {},
   "source": [
    "# Setup"
   ]
  },
  {
   "cell_type": "code",
   "execution_count": null,
   "metadata": {
    "ExecuteTime": {
     "end_time": "2019-03-04T07:11:47.036111Z",
     "start_time": "2019-03-04T07:11:15.944670Z"
    }
   },
   "outputs": [],
   "source": [
    "%matplotlib inline\n",
    "%load_ext autoreload\n",
    "%autoreload 2\n",
    "\n",
    "import time\n",
    "import copy \n",
    "import numpy as np\n",
    "import pandas as pd\n",
    "from sklearn import tree \n",
    "from sklearn.model_selection import cross_val_score\n",
    "\n",
    "import matplotlib.pyplot as plt\n",
    "from cycler import cycler\n",
    "color_list = ['#1f77b4','#ff7f0e','#2ca02c','#d62728','#9467bd',\n",
    "              '#8c564b','#e377c2','#7f7f7f','#bcbd22','#17becf']\n",
    "plt.rc('axes', prop_cycle=(cycler('color',color_list)))\n",
    "\n",
    "from LRT import LRT\n",
    "from LRT import moments\n",
    "from LRT import figfuns\n",
    "from LRT import PCTBIN"
   ]
  },
  {
   "cell_type": "markdown",
   "metadata": {},
   "source": [
    "**Parameter struct:**"
   ]
  },
  {
   "cell_type": "code",
   "execution_count": null,
   "metadata": {
    "ExecuteTime": {
     "end_time": "2019-03-04T07:11:47.111182Z",
     "start_time": "2019-03-04T07:11:47.082153Z"
    }
   },
   "outputs": [],
   "source": [
    "par = LRT.ParStruct()\n",
    "SAMPLE = '_p100'"
   ]
  },
  {
   "cell_type": "markdown",
   "metadata": {},
   "source": [
    "**Seed:**"
   ]
  },
  {
   "cell_type": "code",
   "execution_count": null,
   "metadata": {},
   "outputs": [],
   "source": [
    "np.random.seed(1917)"
   ]
  },
  {
   "cell_type": "markdown",
   "metadata": {},
   "source": [
    "## Load data"
   ]
  },
  {
   "cell_type": "code",
   "execution_count": null,
   "metadata": {
    "ExecuteTime": {
     "end_time": "2019-03-04T07:12:02.993819Z",
     "start_time": "2019-03-04T07:11:47.115190Z"
    },
    "scrolled": true
   },
   "outputs": [],
   "source": [
    "# a. load\n",
    "data = LRT.dataStruct()\n",
    "data.logY = np.transpose(np.genfromtxt(f'data/logY{SAMPLE}.csv',delimiter=','))\n",
    "\n",
    "par.T, par.N = data.logY.shape\n",
    "print(f'(T,N) = ({par.T},{par.N})')\n",
    "\n",
    "# b. update par\n",
    "par.simN = max([par.N,par.simN])\n",
    "par.k = 5\n",
    "par.depth = 10\n",
    "par.k_lead = 30"
   ]
  },
  {
   "cell_type": "markdown",
   "metadata": {},
   "source": [
    "# Single periods"
   ]
  },
  {
   "cell_type": "code",
   "execution_count": null,
   "metadata": {
    "ExecuteTime": {
     "end_time": "2019-03-04T07:38:50.160155Z",
     "start_time": "2019-03-04T07:12:03.006797Z"
    }
   },
   "outputs": [],
   "source": [
    "# a. settings\n",
    "ts = [5,10,15,20,25]\n",
    "n_folds = 5\n",
    "depth_list = range(5,13)\n",
    "\n",
    "# b. estimate\n",
    "for t in ts:\n",
    "    \n",
    "    # a. get features and targets\n",
    "    x,y = LRT.get_features_and_targets(par, data, t)\n",
    "    \n",
    "    # b. compute scores\n",
    "    depth = []\n",
    "    for i in depth_list:        \n",
    "        treenow = tree.DecisionTreeRegressor(max_depth=i,min_samples_leaf=100)\n",
    "        treenow.fit(x,y) \n",
    "        scores = cross_val_score(estimator=treenow,X=x,y=y,cv=n_folds,n_jobs=1,scoring=LRT.mse_scorer)\n",
    "        depth.append(scores.mean())\n",
    "\n",
    "    # c. plot\n",
    "    fig,ax = figfuns.new()\n",
    "    ax.plot(depth_list,depth,'-o',markeredgecolor='none')\n",
    "    ax.set(ylabel='MSE out of fold',xlabel='depth',title='5-fold cross-validation') \n",
    "    \n",
    "    fig.tight_layout() \n",
    "    figfuns.save(fig, ax, f'crossval_depth_t{t}')\n",
    "    plt.close()"
   ]
  },
  {
   "cell_type": "markdown",
   "metadata": {},
   "source": [
    "# Full life-cycle"
   ]
  },
  {
   "cell_type": "markdown",
   "metadata": {},
   "source": [
    "## Split sample"
   ]
  },
  {
   "cell_type": "code",
   "execution_count": null,
   "metadata": {
    "ExecuteTime": {
     "end_time": "2019-03-04T07:38:50.341331Z",
     "start_time": "2019-03-04T07:38:50.165162Z"
    }
   },
   "outputs": [],
   "source": [
    "# a. setup\n",
    "data_est = LRT.dataStruct()\n",
    "data_holdout = LRT.dataStruct()\n",
    "\n",
    "# b. split\n",
    "I_holdout = np.random.binomial(n=1, p=0.8, size=(par.N,)).astype(np.bool)\n",
    "data_est.logY = data.logY[:,~I_holdout]\n",
    "data_holdout.logY = data.logY[:,I_holdout]"
   ]
  },
  {
   "cell_type": "markdown",
   "metadata": {},
   "source": [
    "**Update par:**"
   ]
  },
  {
   "cell_type": "code",
   "execution_count": null,
   "metadata": {
    "ExecuteTime": {
     "end_time": "2019-03-04T07:38:50.364359Z",
     "start_time": "2019-03-04T07:38:50.346338Z"
    }
   },
   "outputs": [],
   "source": [
    "par_est = copy.deepcopy(par)\n",
    "par_est.N = data_est.logY.shape[1]\n",
    "\n",
    "par_holdout = copy.deepcopy(par)\n",
    "par_holdout.N = data_holdout.logY.shape[1]"
   ]
  },
  {
   "cell_type": "markdown",
   "metadata": {},
   "source": [
    "## LRT"
   ]
  },
  {
   "cell_type": "code",
   "execution_count": null,
   "metadata": {
    "ExecuteTime": {
     "end_time": "2019-03-04T07:40:35.719711Z",
     "start_time": "2019-03-04T07:38:50.367355Z"
    }
   },
   "outputs": [],
   "source": [
    "models = []\n",
    "marker_list = ['o','x','d','v','^','<','>']\n",
    "\n",
    "for i,depth in enumerate([2,5,7,10,12,15]): \n",
    "\n",
    "    name_short = f'LRT_depth_{depth:d}'\n",
    "    name = f'LRT (depth {depth:d})'\n",
    "    color = color_list[i]\n",
    "    marker = marker_list[i]\n",
    "\n",
    "    print(name)\n",
    "    \n",
    "    # a. settings\n",
    "    par_est.k = 5\n",
    "    par_est.k_lead = 30    \n",
    "    par_est.depth = depth\n",
    "\n",
    "    # b. estimate\n",
    "    model = LRT.estimate(par_est,data_est,name,color)\n",
    "    model.name_short = name_short\n",
    "    model.marker = marker\n",
    "    models.append(model)\n",
    "    \n",
    "    print('')\n",
    "\n",
    "prefmodel = models[-1]"
   ]
  },
  {
   "cell_type": "markdown",
   "metadata": {},
   "source": [
    "## Clustering"
   ]
  },
  {
   "cell_type": "code",
   "execution_count": null,
   "metadata": {
    "ExecuteTime": {
     "end_time": "2019-03-04T07:41:07.235135Z",
     "start_time": "2019-03-04T07:40:35.733730Z"
    }
   },
   "outputs": [],
   "source": [
    "models_clustering = []\n",
    "marker_list = ['o','x','d','v','^','<','>']\n",
    "par_cluster = copy.deepcopy(par_est)\n",
    "\n",
    "for i,depth in enumerate([2,5,7,10,12,15]): \n",
    "\n",
    "    name_short = f'LRT_cluster_depth_{depth:d}'\n",
    "    name = f'LRT no leads/lags (depth {depth:d})'\n",
    "    color = color_list[i]\n",
    "    marker = marker_list[i]\n",
    "    print(name)\n",
    "    \n",
    "    # a. settings\n",
    "    par_cluster.k = 0\n",
    "    par_cluster.k_lead = 0    \n",
    "    par_cluster.depth = depth\n",
    "\n",
    "    # b. estimate\n",
    "    model = LRT.estimate(par_cluster,data_est,name,color)\n",
    "    model.name_short = name_short\n",
    "    model.marker = marker\n",
    "    models_clustering.append(model)\n",
    "    \n",
    "    print('')"
   ]
  },
  {
   "cell_type": "markdown",
   "metadata": {},
   "source": [
    "## Simulate"
   ]
  },
  {
   "cell_type": "code",
   "execution_count": null,
   "metadata": {},
   "outputs": [],
   "source": [
    "rng_state = np.random.get_state()"
   ]
  },
  {
   "cell_type": "code",
   "execution_count": null,
   "metadata": {
    "ExecuteTime": {
     "end_time": "2019-03-04T07:42:00.969373Z",
     "start_time": "2019-03-04T07:41:07.243137Z"
    }
   },
   "outputs": [],
   "source": [
    "for model in models:\n",
    "    model.par.N = data_holdout.logY.shape[1]\n",
    "    model.par.simN = model.par.N \n",
    "    model.data = LRT.simulate(model.par,model,data_holdout,seed=None,rng_state=rng_state)"
   ]
  },
  {
   "cell_type": "code",
   "execution_count": null,
   "metadata": {
    "ExecuteTime": {
     "end_time": "2019-03-04T07:43:00.895692Z",
     "start_time": "2019-03-04T07:42:00.969373Z"
    }
   },
   "outputs": [],
   "source": [
    "for model in models_clustering:\n",
    "    model.par.N = data_holdout.logY.shape[1]\n",
    "    model.par.simN = model.par.N \n",
    "    model.data = LRT.simulate(model.par,model,data_holdout,seed=None,rng_state=rng_state)"
   ]
  },
  {
   "cell_type": "markdown",
   "metadata": {},
   "source": [
    "## Compute within-person MSE"
   ]
  },
  {
   "cell_type": "code",
   "execution_count": null,
   "metadata": {
    "ExecuteTime": {
     "end_time": "2019-03-04T07:43:05.926481Z",
     "start_time": "2019-03-04T07:11:16.168Z"
    }
   },
   "outputs": [],
   "source": [
    "def compare_MSE(model,data):\n",
    "    \n",
    "    ydata = data.logY\n",
    "    ypred = model.data.logY\n",
    "    MSE = np.mean((ydata - ypred)**2)\n",
    "    \n",
    "    print(f'{model.name:16s}: MSE = {MSE:.6f}')"
   ]
  },
  {
   "cell_type": "code",
   "execution_count": null,
   "metadata": {
    "ExecuteTime": {
     "end_time": "2019-03-04T07:43:05.919477Z",
     "start_time": "2019-03-04T07:43:05.617189Z"
    }
   },
   "outputs": [],
   "source": [
    "for model in models: \n",
    "    compare_MSE(model,data_holdout)"
   ]
  },
  {
   "cell_type": "code",
   "execution_count": null,
   "metadata": {
    "ExecuteTime": {
     "end_time": "2019-03-04T07:43:05.929486Z",
     "start_time": "2019-03-04T07:11:16.190Z"
    }
   },
   "outputs": [],
   "source": [
    "for model in models_clustering: \n",
    "    compare_MSE(model,data_holdout)"
   ]
  },
  {
   "cell_type": "markdown",
   "metadata": {},
   "source": [
    "# PCTBIN"
   ]
  },
  {
   "cell_type": "markdown",
   "metadata": {},
   "source": [
    "## Estimate"
   ]
  },
  {
   "cell_type": "code",
   "execution_count": null,
   "metadata": {
    "ExecuteTime": {
     "end_time": "2019-03-04T07:43:05.932489Z",
     "start_time": "2019-03-04T07:11:16.218Z"
    }
   },
   "outputs": [],
   "source": [
    "models_PCTBIN = [] \n",
    "num_bins_list = [4, 10, 20, 50, 75, 100, 200]\n",
    "for nb in num_bins_list: \n",
    "    model_PCTBIN = PCTBIN.estimate(par_est,data_est,num_bins=nb)\n",
    "    models_PCTBIN.append(model_PCTBIN)"
   ]
  },
  {
   "cell_type": "markdown",
   "metadata": {},
   "source": [
    "## Simulate"
   ]
  },
  {
   "cell_type": "code",
   "execution_count": null,
   "metadata": {
    "ExecuteTime": {
     "end_time": "2019-03-04T07:43:05.942497Z",
     "start_time": "2019-03-04T07:11:16.231Z"
    }
   },
   "outputs": [],
   "source": [
    "for model_PCTBIN in models_PCTBIN: \n",
    "    model_PCTBIN.data = PCTBIN.simulate(model_PCTBIN,data_holdout)"
   ]
  },
  {
   "cell_type": "markdown",
   "metadata": {},
   "source": [
    "# Depth vs. number of leafs"
   ]
  },
  {
   "cell_type": "code",
   "execution_count": null,
   "metadata": {
    "ExecuteTime": {
     "end_time": "2019-03-04T07:43:05.956511Z",
     "start_time": "2019-03-04T07:11:16.302Z"
    }
   },
   "outputs": [],
   "source": [
    "# a. unpack\n",
    "depths = [model.par.depth for model in models]\n",
    "leafs = [np.mean(model.num_leafs) for model in models]\n",
    "max_leafs = [2.0**model.par.depth for model in models]\n",
    "\n",
    "# b. figure\n",
    "fig,ax = figfuns.new()\n",
    "ax.semilogy(depths,leafs,label='used by estimator',marker='o')\n",
    "ax.semilogy(depths,max_leafs,label='maximum possible',marker='o')\n",
    "ax.set_xlabel('depth')\n",
    "ax.set_ylabel('avg. number of groups in tree per age')\n",
    "\n",
    "max_leafs_list = max_leafs\n",
    "max_leafs_list.append(max(leafs))\n",
    "ax.set_yticks(max_leafs_list)\n",
    "ax.set_yticklabels([ f'{leafs:4.0f}' for leafs in max_leafs_list])\n",
    "ax.legend()\n",
    "\n",
    "fig.tight_layout() \n",
    "figfuns.save(fig,ax,name='depth_vs_num_leafs')\n",
    "plt.close()"
   ]
  },
  {
   "cell_type": "markdown",
   "metadata": {},
   "source": [
    "# Comparing analytical MISE"
   ]
  },
  {
   "cell_type": "markdown",
   "metadata": {},
   "source": [
    "## Compute MISE for different depth/num_bins"
   ]
  },
  {
   "cell_type": "code",
   "execution_count": null,
   "metadata": {
    "ExecuteTime": {
     "end_time": "2019-03-04T07:43:05.945501Z",
     "start_time": "2019-03-04T07:11:16.272Z"
    }
   },
   "outputs": [],
   "source": [
    "def compute_mise_list(model_list,t0,t1,modeltype):\n",
    "    \n",
    "    MISES = np.empty((len(model_list),))\n",
    "    for i,model in enumerate(model_list): \n",
    "        MISES[i] = LRT.compute_MISE_analytically(model,data_holdout.logY,t0,t1,modeltype)\n",
    "        \n",
    "    return MISES"
   ]
  },
  {
   "cell_type": "code",
   "execution_count": null,
   "metadata": {
    "ExecuteTime": {
     "end_time": "2019-03-04T07:43:05.945501Z",
     "start_time": "2019-03-04T07:11:16.272Z"
    }
   },
   "outputs": [],
   "source": [
    "# a. setting\n",
    "t0s = [0,4]\n",
    "jumps = [1,5,10]\n",
    "\n",
    "# b. allocate\n",
    "MISES_PCTBIN = np.empty((len(t0s),len(jumps),len(models_PCTBIN)))\n",
    "MISES_LRT = np.empty((len(t0s),len(jumps),len(models)))\n",
    "MISES_LRT_clustering = np.empty((len(t0s),len(jumps),len(models_clustering)))\n",
    "\n",
    "# c. compute\n",
    "for i,t0 in enumerate(t0s):\n",
    "    for j,jump in enumerate(jumps): \n",
    "        t1 = t0 + jump\n",
    "        MISES_PCTBIN[i,j,:] = compute_mise_list(models_PCTBIN,t0,t1,'PCTBIN')\n",
    "        MISES_LRT[i,j,:] = compute_mise_list(models, t0,t1,'LRT')\n",
    "        MISES_LRT_clustering[i,j,:] = compute_mise_list(models_clustering,t0,t1,'LRT')"
   ]
  },
  {
   "cell_type": "markdown",
   "metadata": {},
   "source": [
    "## Figures"
   ]
  },
  {
   "cell_type": "code",
   "execution_count": null,
   "metadata": {
    "ExecuteTime": {
     "end_time": "2019-03-04T07:43:05.947501Z",
     "start_time": "2019-03-04T07:11:16.280Z"
    }
   },
   "outputs": [],
   "source": [
    "def plot_MISES_given_t0_t1(MISES_LRT,MISES_LRT_clustering,MISES_PCTBIN,i,j,t0s,jumps): \n",
    "    \n",
    "    # a. unpack\n",
    "    t0 = t0s[i]\n",
    "    t1 = t0+jumps[j]\n",
    "    \n",
    "    num_leafs_list = [np.mean(model.num_leafs[t0:t1]) for model in models]\n",
    "    num_leafs_list_clust = [np.mean(model.num_leafs[t0:t1]) for model in models_clustering]\n",
    "    num_bins_list = [model.num_bins for model in models_PCTBIN]\n",
    "\n",
    "    # b. figure\n",
    "    fig,ax = figfuns.new() \n",
    "    \n",
    "    ax.semilogx(num_bins_list,MISES_PCTBIN[i,j], marker='x', label='PCTBIN')\n",
    "    ax.semilogx(num_leafs_list,MISES_LRT[i,j], marker='o', label='LRT')\n",
    "    ax.semilogx(num_leafs_list_clust,MISES_LRT_clustering[i,j],marker='*',label='LRT (no leads/lags)')\n",
    "    \n",
    "    ax.set_xlabel('log number of groups'); \n",
    "    ax.set_ylabel(f'mean integrated squared error ($t_0={t0}$, $t_1={t1}$)')\n",
    "    \n",
    "    ax.set_xticks(num_bins_list + [np.max(num_leafs_list)])\n",
    "    ax.set_xticklabels([f'{l:3.0f}' for l in num_bins_list + [max(num_leafs_list)]])\n",
    "    ax.legend()\n",
    "    \n",
    "    fig.tight_layout()    \n",
    "    figfuns.save(fig,ax,name=f'mise_LRT_vs_PCTBIN_t0{t0}_t1{t1}')\n",
    "    plt.close()"
   ]
  },
  {
   "cell_type": "code",
   "execution_count": null,
   "metadata": {
    "ExecuteTime": {
     "end_time": "2019-03-04T07:43:05.953509Z",
     "start_time": "2019-03-04T07:11:16.290Z"
    }
   },
   "outputs": [],
   "source": [
    "for i,t0 in enumerate(t0s): \n",
    "    for j,jump in enumerate(jumps): \n",
    "        plot_MISES_given_t0_t1(MISES_LRT,MISES_LRT_clustering,MISES_PCTBIN,i,j,t0s,jumps)"
   ]
  }
 ],
 "metadata": {
  "anaconda-cloud": {},
  "kernelspec": {
   "display_name": "Python 3",
   "language": "python",
   "name": "python3"
  },
  "language_info": {
   "codemirror_mode": {
    "name": "ipython",
    "version": 3
   },
   "file_extension": ".py",
   "mimetype": "text/x-python",
   "name": "python",
   "nbconvert_exporter": "python",
   "pygments_lexer": "ipython3",
   "version": "3.7.3"
  }
 },
 "nbformat": 4,
 "nbformat_minor": 2
}
