{
 "cells": [
  {
   "cell_type": "code",
   "execution_count": null,
   "metadata": {},
   "outputs": [],
   "source": [
    "import os\n",
    "import shutil\n",
    "import glob"
   ]
  },
  {
   "cell_type": "code",
   "execution_count": null,
   "metadata": {},
   "outputs": [],
   "source": [
    "if not os.path.isdir('LRT'):\n",
    "    os.mkdir('LRT')   "
   ]
  },
  {
   "cell_type": "code",
   "execution_count": null,
   "metadata": {},
   "outputs": [],
   "source": [
    "files = glob.glob('*.txt')\n",
    "for file in files:\n",
    "    \n",
    "    spec = file.split('__')\n",
    "    dst_folder = 'LRT'\n",
    "    for i in range(len(spec)-2):    \n",
    "        dst_folder += f'/{spec[i]}'\n",
    "        if not os.path.isdir(dst_folder):\n",
    "            os.mkdir(dst_folder)    \n",
    "    \n",
    "    if len(spec)-2 > 0:\n",
    "        dst_folder += '/'\n",
    "        \n",
    "    filename = spec[-2]\n",
    "    ext = spec[-1].split('.')[0]\n",
    "    \n",
    "    dst = dst_folder + filename + '.' + ext\n",
    "    print(dst)\n",
    "    shutil.copyfile(file,dst)"
   ]
  },
  {
   "cell_type": "code",
   "execution_count": null,
   "metadata": {},
   "outputs": [],
   "source": [
    "if not os.path.isdir('LRT/data'):\n",
    "    os.mkdir('LRT/data')    \n",
    "\n",
    "for file in ['EJEN6','PRIS61']:\n",
    "     shutil.copyfile(f'data_{file}.xlsx',f'LRT/data/{file}.xlsx')"
   ]
  }
 ],
 "metadata": {
  "kernelspec": {
   "display_name": "Python 3",
   "language": "python",
   "name": "python3"
  },
  "language_info": {
   "codemirror_mode": {
    "name": "ipython",
    "version": 3
   },
   "file_extension": ".py",
   "mimetype": "text/x-python",
   "name": "python",
   "nbconvert_exporter": "python",
   "pygments_lexer": "ipython3",
   "version": "3.7.4"
  }
 },
 "nbformat": 4,
 "nbformat_minor": 4
}
