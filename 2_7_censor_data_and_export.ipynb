{
 "cells": [
  {
   "cell_type": "markdown",
   "metadata": {},
   "source": [
    "1. Loads data\n",
    "2. Estimates LRT \n",
    "3. Censors all transition matrices\n",
    "4. Writes to disk \n",
    "\n",
    "Relies on the functions in `censoring.py`, which can also read data back in and re-normalize the censored transition matrices. "
   ]
  },
  {
   "cell_type": "markdown",
   "metadata": {},
   "source": [
    "# Setup"
   ]
  },
  {
   "cell_type": "code",
   "execution_count": null,
   "metadata": {
    "ExecuteTime": {
     "end_time": "2019-03-15T10:44:42.006134Z",
     "start_time": "2019-03-15T10:44:16.535389Z"
    }
   },
   "outputs": [],
   "source": [
    "%matplotlib inline\n",
    "%load_ext autoreload\n",
    "%autoreload 2\n",
    "    \n",
    "import time\n",
    "import copy\n",
    "from itertools import product\n",
    "import numpy as np\n",
    "\n",
    "import matplotlib.pyplot as plt\n",
    "from cycler import cycler\n",
    "color_list  = ['#1f77b4','#ff7f0e','#2ca02c','#d62728','#9467bd','#8c564b','#e377c2','#7f7f7f','#bcbd22','#17becf']\n",
    "marker_list = ['o','x','d','v','^','<','>']\n",
    "plt.rc('axes', prop_cycle=(cycler('color',color_list)))\n",
    "\n",
    "from LRT import LRT\n",
    "from LRT import moments\n",
    "from LRT import figfuns\n",
    "from LRT import PT\n",
    "from LRT import PCTBIN\n",
    "\n",
    "from LRT import censoring"
   ]
  },
  {
   "cell_type": "markdown",
   "metadata": {},
   "source": [
    "**Setup parameter struct:**"
   ]
  },
  {
   "cell_type": "code",
   "execution_count": null,
   "metadata": {
    "ExecuteTime": {
     "end_time": "2019-03-15T10:44:42.065225Z",
     "start_time": "2019-03-15T10:44:42.033165Z"
    }
   },
   "outputs": [],
   "source": [
    "par = LRT.ParStruct()\n",
    "SAMPLE = '_p100'"
   ]
  },
  {
   "cell_type": "markdown",
   "metadata": {},
   "source": [
    "## Load data"
   ]
  },
  {
   "cell_type": "code",
   "execution_count": null,
   "metadata": {
    "ExecuteTime": {
     "end_time": "2019-03-15T10:45:00.767011Z",
     "start_time": "2019-03-15T10:44:42.084243Z"
    }
   },
   "outputs": [],
   "source": [
    "# a. load\n",
    "data = LRT.dataStruct()\n",
    "data.logY = np.transpose(np.genfromtxt(f'data/logY{SAMPLE}.csv',delimiter=','))\n",
    "T, par.N = data.logY.shape\n",
    "\n",
    "# b. rescale\n",
    "Y = np.exp(data.logY)\n",
    "Y_lev = Y\n",
    "Y = Y / np.mean(Y[0,:])\n",
    "data.logY = np.log(Y)\n",
    "\n",
    "# c. save simple data moments\n",
    "mean_Y = np.ones(par.T)    \n",
    "mean_Y_lev = np.ones(par.T)    \n",
    "mean_logY = np.ones(par.T)\n",
    "var_logY = np.ones(par.T)\n",
    "\n",
    "for t in range(par.T):\n",
    "    mean_Y[t] = np.mean(Y[t,:])\n",
    "    mean_Y_lev[t] = np.mean(Y_lev[t,:])        \n",
    "    mean_logY[t] = np.mean(data.logY[t,:])\n",
    "    var_logY[t] = np.var(data.logY[t,:])\n",
    "    \n",
    "# d. upgrade simulation for large sample\n",
    "par.simN = max([par.N,par.simN])"
   ]
  },
  {
   "cell_type": "markdown",
   "metadata": {},
   "source": [
    "# Estimate "
   ]
  },
  {
   "cell_type": "markdown",
   "metadata": {},
   "source": [
    "## LRT\n",
    "\n",
    "Preferred specification is the depth 6. The amount of censoring (observations and cells in the transition matrices, averaged over all ages) from various depths is: \n",
    "* depth 5: 0.15% of observations; 15.07% of cells, \n",
    "* depth 6: 0.56% of observations; 16.56% of cells,\n",
    "* depth 7: 1.68% of observations; 14.53% of cells. "
   ]
  },
  {
   "cell_type": "code",
   "execution_count": null,
   "metadata": {
    "ExecuteTime": {
     "end_time": "2019-03-15T10:51:21.018626Z",
     "start_time": "2019-03-15T10:46:08.756968Z"
    }
   },
   "outputs": [],
   "source": [
    "models_LRT = []\n",
    "\n",
    "for depth,name_short,name in zip([6],\n",
    "                                 ['LRT_depth_6'],\n",
    "                                 ['LRT (depth 6)']):\n",
    "\n",
    "    # a. settings\n",
    "    par.k = 5\n",
    "    par.k_lead = 30    \n",
    "    par.depth = depth\n",
    "\n",
    "    # b. estimate\n",
    "    model = LRT.estimate(par,data,name)\n",
    "    model.name_short = name_short\n",
    "    \n",
    "    models_LRT.append(model)"
   ]
  },
  {
   "cell_type": "code",
   "execution_count": null,
   "metadata": {},
   "outputs": [],
   "source": [
    "prefmodel = models_LRT[0] "
   ]
  },
  {
   "cell_type": "markdown",
   "metadata": {},
   "source": [
    "## Write the model to disk"
   ]
  },
  {
   "cell_type": "code",
   "execution_count": null,
   "metadata": {
    "scrolled": true
   },
   "outputs": [],
   "source": [
    "DOSAVE = True\n",
    "min_obs_per_cell = 5\n",
    "model = prefmodel\n",
    "out_dir = f'censored_estimates'\n",
    "\n",
    "censoring.write_model_to_disk(out_dir, model, min_obs_per_cell, DOCENSOR=True)"
   ]
  },
  {
   "cell_type": "markdown",
   "metadata": {},
   "source": [
    "# Testing: reading back, simulating and plotting"
   ]
  },
  {
   "cell_type": "markdown",
   "metadata": {},
   "source": [
    "## Read back in"
   ]
  },
  {
   "cell_type": "code",
   "execution_count": null,
   "metadata": {},
   "outputs": [],
   "source": [
    "m_load = censoring.read_censored_data(in_dir=out_dir, T=par.T, N=par.N)"
   ]
  },
  {
   "cell_type": "markdown",
   "metadata": {},
   "source": [
    "## Simulate and compute\n",
    "\n",
    "To verify that the censoring has not drastically impacted what simulations look like. "
   ]
  },
  {
   "cell_type": "code",
   "execution_count": null,
   "metadata": {},
   "outputs": [],
   "source": [
    "# simulate data\n",
    "prefmodel.data = LRT.simulate(par, prefmodel, data)\n",
    "m_load.data = censoring.simulate(m_load)"
   ]
  },
  {
   "cell_type": "code",
   "execution_count": null,
   "metadata": {},
   "outputs": [],
   "source": [
    "# compute moments \n",
    "for x in [data, m_load.data, prefmodel.data]: \n",
    "    moments.calc_all(par,x,printprogress=True) "
   ]
  },
  {
   "cell_type": "markdown",
   "metadata": {},
   "source": [
    "## Plot"
   ]
  },
  {
   "cell_type": "code",
   "execution_count": null,
   "metadata": {},
   "outputs": [],
   "source": [
    "prefmodel.name = 'LRT, exact'\n",
    "m_load.name = 'LRT, censored'"
   ]
  },
  {
   "cell_type": "code",
   "execution_count": null,
   "metadata": {},
   "outputs": [],
   "source": [
    "prefmodel.marker = 'x'"
   ]
  },
  {
   "cell_type": "code",
   "execution_count": null,
   "metadata": {},
   "outputs": [],
   "source": [
    "prefmodel.color = color_list[1]"
   ]
  },
  {
   "cell_type": "code",
   "execution_count": null,
   "metadata": {},
   "outputs": [],
   "source": [
    "figfuns.age_profile(par, data, [prefmodel, m_load], 0, varname_str='logY', prefix='censoring')"
   ]
  },
  {
   "cell_type": "code",
   "execution_count": null,
   "metadata": {},
   "outputs": [],
   "source": [
    "figfuns.age_profile(par, data, [prefmodel, m_load], 5, \n",
    "                    varname_str='dlogY', prefix='censoring')"
   ]
  }
 ],
 "metadata": {
  "anaconda-cloud": {},
  "kernelspec": {
   "display_name": "Python 3",
   "language": "python",
   "name": "python3"
  },
  "language_info": {
   "codemirror_mode": {
    "name": "ipython",
    "version": 3
   },
   "file_extension": ".py",
   "mimetype": "text/x-python",
   "name": "python",
   "nbconvert_exporter": "python",
   "pygments_lexer": "ipython3",
   "version": "3.7.4"
  },
  "toc-autonumbering": true
 },
 "nbformat": 4,
 "nbformat_minor": 4
}
