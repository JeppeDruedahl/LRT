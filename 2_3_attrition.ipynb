{
 "cells": [
  {
   "cell_type": "markdown",
   "metadata": {},
   "source": [
    "# Setup"
   ]
  },
  {
   "cell_type": "code",
   "execution_count": null,
   "metadata": {
    "ExecuteTime": {
     "end_time": "2019-03-04T15:59:09.015033Z",
     "start_time": "2019-03-04T15:59:05.199379Z"
    }
   },
   "outputs": [],
   "source": [
    "%matplotlib inline\n",
    "%load_ext autoreload\n",
    "%autoreload 2\n",
    "    \n",
    "import time\n",
    "import copy\n",
    "import numpy as np\n",
    "\n",
    "import matplotlib.pyplot as plt\n",
    "from cycler import cycler\n",
    "color_list  = ['#1f77b4','#ff7f0e','#2ca02c','#d62728','#9467bd','#8c564b','#e377c2','#7f7f7f','#bcbd22','#17becf']\n",
    "marker_list = ['o','x','*','v','^','d']\n",
    "plt.rc('axes', prop_cycle=(cycler('color',color_list)))\n",
    "\n",
    "from LRT import LRT\n",
    "from LRT import moments\n",
    "from LRT import figfuns"
   ]
  },
  {
   "cell_type": "markdown",
   "metadata": {},
   "source": [
    "**Setup parameter struct:**"
   ]
  },
  {
   "cell_type": "code",
   "execution_count": null,
   "metadata": {
    "ExecuteTime": {
     "end_time": "2019-03-15T10:44:42.065225Z",
     "start_time": "2019-03-15T10:44:42.033165Z"
    }
   },
   "outputs": [],
   "source": [
    "par = LRT.ParStruct()\n",
    "SAMPLE = '_p100'"
   ]
  },
  {
   "cell_type": "markdown",
   "metadata": {},
   "source": [
    "**Seed:**"
   ]
  },
  {
   "cell_type": "code",
   "execution_count": null,
   "metadata": {},
   "outputs": [],
   "source": [
    "np.random.seed(1917)"
   ]
  },
  {
   "cell_type": "markdown",
   "metadata": {},
   "source": [
    "## Load data"
   ]
  },
  {
   "cell_type": "code",
   "execution_count": null,
   "metadata": {
    "ExecuteTime": {
     "end_time": "2019-03-04T15:59:26.047248Z",
     "start_time": "2019-03-04T15:59:09.090063Z"
    }
   },
   "outputs": [],
   "source": [
    "# a. load\n",
    "data = LRT.dataStruct()\n",
    "data.logY = np.transpose(np.genfromtxt(f'data/logY{SAMPLE}.csv',delimiter=','))\n",
    "\n",
    "par.T, par.N = data.logY.shape\n",
    "print(f'(T,N) = ({par.T},{par.N})')\n",
    "\n",
    "# b. rescale\n",
    "Y = np.exp(data.logY)\n",
    "Y_lev = Y\n",
    "Y = Y / np.mean(Y[0,:])\n",
    "data.logY = np.log(Y)\n",
    "    \n",
    "# c. update par\n",
    "par.simN = max([par.N,par.simN])\n",
    "par.k = 5\n",
    "par.k_lead = 5\n",
    "par.depth = 10"
   ]
  },
  {
   "cell_type": "markdown",
   "metadata": {},
   "source": [
    "## Attrition sample"
   ]
  },
  {
   "cell_type": "code",
   "execution_count": null,
   "metadata": {
    "ExecuteTime": {
     "end_time": "2019-03-04T15:59:38.912530Z",
     "start_time": "2019-03-04T15:59:26.055255Z"
    }
   },
   "outputs": [],
   "source": [
    "# a. setup\n",
    "data_attr = LRT.dataStruct()\n",
    "data_attr.logY = np.nan*np.empty(data.logY.shape)\n",
    "\n",
    "# b. attrition\n",
    "T0 = np.zeros((par.N,),dtype=int)\n",
    "T1 = (par.T-1)*np.ones((par.N,),dtype=int)\n",
    "\n",
    "ts = np.random.choice(range(par.T),size=(par.N,))\n",
    "I = ts < (par.T/2)\n",
    "\n",
    "T0[I] = ts[I]\n",
    "T1[I == False] = ts[I == False]\n",
    "\n",
    "for i in range(par.N): \n",
    "    ts = range(T0[i], T1[i]+1)\n",
    "    data_attr.logY[ts,i] = data.logY[ts,i]"
   ]
  },
  {
   "cell_type": "code",
   "execution_count": null,
   "metadata": {
    "ExecuteTime": {
     "end_time": "2019-03-04T15:59:39.063675Z",
     "start_time": "2019-03-04T15:59:38.917535Z"
    }
   },
   "outputs": [],
   "source": [
    "share_selected = np.mean(np.isnan(data_attr.logY) == False)\n",
    "print(f'selected {100.0*share_selected:.1f} percent of observations')"
   ]
  },
  {
   "cell_type": "markdown",
   "metadata": {},
   "source": [
    "## Reduced sub-sample"
   ]
  },
  {
   "cell_type": "code",
   "execution_count": null,
   "metadata": {
    "ExecuteTime": {
     "end_time": "2019-03-04T15:59:39.128739Z",
     "start_time": "2019-03-04T15:59:39.074693Z"
    }
   },
   "outputs": [],
   "source": [
    "# a. setup\n",
    "data_sub = LRT.dataStruct()\n",
    "par_sub = copy.deepcopy(par)\n",
    "\n",
    "# b. random sub-sample\n",
    "I = np.random.binomial(1,share_selected,size=par.N) == 1\n",
    "data_sub.logY = data.logY[:, I]\n",
    "\n",
    "# c. update par\n",
    "par_sub = copy.deepcopy(par)\n",
    "par_sub.T, par_sub.N = data_sub.logY.shape"
   ]
  },
  {
   "cell_type": "markdown",
   "metadata": {},
   "source": [
    "# Estimate"
   ]
  },
  {
   "cell_type": "markdown",
   "metadata": {},
   "source": [
    "## Attribution sample"
   ]
  },
  {
   "cell_type": "code",
   "execution_count": null,
   "metadata": {
    "ExecuteTime": {
     "end_time": "2019-03-04T16:01:46.370332Z",
     "start_time": "2019-03-04T15:59:39.298900Z"
    }
   },
   "outputs": [],
   "source": [
    "model_sub = LRT.estimate(par_sub,data_sub,name='LRT (balanced)',color=color_list[0])\n",
    "model_sub.marker = marker_list[0]\n",
    "model_sub.name_short = 'LRT_balanced'"
   ]
  },
  {
   "cell_type": "markdown",
   "metadata": {},
   "source": [
    "## Reduced sample"
   ]
  },
  {
   "cell_type": "code",
   "execution_count": null,
   "metadata": {
    "ExecuteTime": {
     "end_time": "2019-03-04T16:03:58.407278Z",
     "start_time": "2019-03-04T16:01:46.381344Z"
    }
   },
   "outputs": [],
   "source": [
    "model_attr = LRT.estimate(par,data_attr,name='LRT (attrition)',color=color_list[1])\n",
    "model_attr.marker = marker_list[1]\n",
    "model_attr.name_short = 'LRT_attrition'"
   ]
  },
  {
   "cell_type": "markdown",
   "metadata": {},
   "source": [
    "## Simulate"
   ]
  },
  {
   "cell_type": "code",
   "execution_count": null,
   "metadata": {
    "ExecuteTime": {
     "end_time": "2019-03-04T16:04:21.799618Z",
     "start_time": "2019-03-04T16:03:58.414288Z"
    }
   },
   "outputs": [],
   "source": [
    "rng_state = np.random.get_state()\n",
    "\n",
    "model_sub.data = LRT.simulate(model_sub.par,model_sub,data_sub,seed=None,rng_state=rng_state)\n",
    "model_attr.data = LRT.simulate(model_attr.par,model_attr,data_attr,seed=None,rng_state=rng_state)\n",
    "\n",
    "models = [model_sub, model_attr]"
   ]
  },
  {
   "cell_type": "markdown",
   "metadata": {},
   "source": [
    "## Moments"
   ]
  },
  {
   "cell_type": "markdown",
   "metadata": {},
   "source": [
    "For **data**:"
   ]
  },
  {
   "cell_type": "code",
   "execution_count": null,
   "metadata": {
    "ExecuteTime": {
     "end_time": "2019-03-06T07:05:00.103816Z",
     "start_time": "2019-03-06T07:02:24.296876Z"
    }
   },
   "outputs": [],
   "source": [
    "moments.calc_all(par,data,printprogress=True)\n",
    "moments.calc_all(par,data_attr,printprogress=True)"
   ]
  },
  {
   "cell_type": "markdown",
   "metadata": {},
   "source": [
    "For **models:**"
   ]
  },
  {
   "cell_type": "code",
   "execution_count": null,
   "metadata": {
    "ExecuteTime": {
     "end_time": "2019-03-06T07:10:25.382357Z",
     "start_time": "2019-03-06T07:06:47.253357Z"
    }
   },
   "outputs": [],
   "source": [
    "for model in models: \n",
    "    print(model.name)\n",
    "    moments.calc_all(model.par,model.data,printprogress=True)"
   ]
  },
  {
   "cell_type": "markdown",
   "metadata": {},
   "source": [
    "## Figures "
   ]
  },
  {
   "cell_type": "code",
   "execution_count": null,
   "metadata": {
    "ExecuteTime": {
     "end_time": "2019-03-06T12:34:04.888379Z",
     "start_time": "2019-03-06T12:34:03.380943Z"
    }
   },
   "outputs": [],
   "source": [
    "prefix = 'attrition'\n",
    "\n",
    "figfuns.age_profile(par, data, models, 0, \n",
    "                    varname_str='logY', prefix=prefix)\n",
    "\n",
    "figfuns.age_profile(par, data, models, 1, \n",
    "                    varname_str='dlogY', prefix=prefix)\n",
    "\n",
    "figfuns.age_profile(par, data, models, 5, \n",
    "                    varname_str='dlogY', prefix=prefix)\n",
    "\n",
    "figfuns.heterogenous(par, data, models,\n",
    "                     'dlogY', 0, 'life-time growth (demeaned)',\n",
    "                     prefix=prefix, bounds=(-1.5,1.5))\n",
    "\n",
    "figfuns.heterogenous(par, data, models,\n",
    "                     'autocorr', 1, 'first-order autocorr.',\n",
    "                     prefix=prefix, bounds=(-1,1))\n",
    "\n",
    "figfuns.heterogenous(par, data, models,\n",
    "                     'autocorr_level', 1, 'first-order autocorr. (levels)',\n",
    "                     prefix=prefix, bounds=(-.25,1))\n",
    "\n",
    "figfuns.heterogenous(par, data, models,\n",
    "                     'std_dlogY', 1, 'std. of income growth',\n",
    "                     prefix=prefix, bounds=(0,0.5))"
   ]
  }
 ],
 "metadata": {
  "anaconda-cloud": {},
  "kernelspec": {
   "display_name": "Python 3",
   "language": "python",
   "name": "python3"
  },
  "language_info": {
   "codemirror_mode": {
    "name": "ipython",
    "version": 3
   },
   "file_extension": ".py",
   "mimetype": "text/x-python",
   "name": "python",
   "nbconvert_exporter": "python",
   "pygments_lexer": "ipython3",
   "version": "3.7.4"
  }
 },
 "nbformat": 4,
 "nbformat_minor": 4
}
