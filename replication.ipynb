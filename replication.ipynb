{
 "cells": [
  {
   "cell_type": "markdown",
   "metadata": {},
   "source": [
    "# LRT Replication "
   ]
  },
  {
   "cell_type": "code",
   "execution_count": 1,
   "metadata": {},
   "outputs": [],
   "source": [
    "import os\n",
    "import numpy as np \n",
    "import pandas as pd\n",
    "import matplotlib.pyplot as plt\n",
    "\n",
    "from LRT import censoring "
   ]
  },
  {
   "cell_type": "code",
   "execution_count": 2,
   "metadata": {},
   "outputs": [],
   "source": [
    "seed = 1917\n",
    "np.random.seed(seed)"
   ]
  },
  {
   "cell_type": "markdown",
   "metadata": {},
   "source": [
    "Read in LRT estimates "
   ]
  },
  {
   "cell_type": "code",
   "execution_count": 3,
   "metadata": {},
   "outputs": [],
   "source": [
    "model = censoring.read_censored_data('censored_estimates')"
   ]
  },
  {
   "cell_type": "markdown",
   "metadata": {},
   "source": [
    "Simulate data and plot it"
   ]
  },
  {
   "cell_type": "code",
   "execution_count": 4,
   "metadata": {},
   "outputs": [],
   "source": [
    "model.data = censoring.simulate(model, seed=seed)"
   ]
  },
  {
   "cell_type": "markdown",
   "metadata": {},
   "source": [
    "## Add some noise and save income dataset \n",
    "\n",
    "Adding noise amounting to $\\frac{1}{20}$ of the std. of $Y_1$. "
   ]
  },
  {
   "cell_type": "code",
   "execution_count": 5,
   "metadata": {},
   "outputs": [],
   "source": [
    "noise_std = np.std(model.data.logY[0,:]) / 20 "
   ]
  },
  {
   "cell_type": "code",
   "execution_count": 6,
   "metadata": {},
   "outputs": [],
   "source": [
    "err = noise_std*np.random.normal(0, 1, model.data.logY.shape)\n",
    "logY = model.data.logY + np.log(183.1) + err"
   ]
  },
  {
   "cell_type": "code",
   "execution_count": 7,
   "metadata": {},
   "outputs": [],
   "source": [
    "T = 30\n",
    "inc = pd.DataFrame(np.transpose(logY),columns=[f'age{t+30}' for t in range(T)])"
   ]
  },
  {
   "cell_type": "code",
   "execution_count": 8,
   "metadata": {},
   "outputs": [
    {
     "data": {
      "image/png": "[encoded data removed]",
      "text/plain": [
       "<Figure size 432x288 with 1 Axes>"
      ]
     },
     "metadata": {
      "needs_background": "light"
     },
     "output_type": "display_data"
    }
   ],
   "source": [
    "ax = inc.age30.hist(bins=50, density=True, alpha=.5, label='Age 30'); \n",
    "inc.age59.hist(ax=ax, bins=50, density=True, alpha=.5, label='age 59'); \n",
    "ax.legend(); "
   ]
  },
  {
   "cell_type": "markdown",
   "metadata": {},
   "source": [
    "# Export"
   ]
  },
  {
   "cell_type": "code",
   "execution_count": 9,
   "metadata": {},
   "outputs": [],
   "source": [
    "inc.sample(frac=1/100, random_state=seed).to_csv('data/logY_p1.csv', header=False, index=False)\n",
    "inc.sample(frac=10/100, random_state=seed).to_csv('data/logY_p10.csv', header=False, index=False)\n",
    "inc.to_csv('data/logY_p100.csv', header=False, index=False)"
   ]
  },
  {
   "cell_type": "markdown",
   "metadata": {},
   "source": [
    "## Unbalanced sample "
   ]
  },
  {
   "cell_type": "code",
   "execution_count": 10,
   "metadata": {},
   "outputs": [],
   "source": [
    "inc.sample(frac=1/100, random_state=seed).to_csv('data/logY_unbalanced_p1.csv', header=False, index=False)\n",
    "inc.sample(frac=10/100, random_state=seed).to_csv('data/logY_unbalanced_p10.csv', header=False, index=False)\n",
    "inc.to_csv('data/logY_unbalanced_p100.csv', header=False, index=False)"
   ]
  },
  {
   "cell_type": "markdown",
   "metadata": {},
   "source": [
    "## Y zero cutoff "
   ]
  },
  {
   "cell_type": "code",
   "execution_count": 11,
   "metadata": {},
   "outputs": [],
   "source": [
    "inc = inc.apply(np.exp)\n",
    "inc.sample(frac=1/100, random_state=seed).to_csv('data/Y_zerocutoff_p1.csv', header=False, index=False)\n",
    "inc.sample(frac=10/100, random_state=seed).to_csv('data/Y_zerocutoff_p10.csv', header=False, index=False)\n",
    "inc.to_csv('data/Y_zerocutoff_p100.csv', header=False, index=False)"
   ]
  },
  {
   "cell_type": "markdown",
   "metadata": {},
   "source": [
    "## Birth years\n",
    "\n",
    "Uniformly randomly sample birthyear in $\\{1951, ..., 1955\\}$. "
   ]
  },
  {
   "cell_type": "code",
   "execution_count": 12,
   "metadata": {},
   "outputs": [],
   "source": [
    "(T,N) = model.data.logY.shape\n",
    "birthyears = pd.DataFrame(np.random.choice(np.arange(1951, 1956), size=(N,)), columns=['birthyear'])\n",
    "\n",
    "fn = 'data/birthyear'\n",
    "birthyears.to_csv(fn + '_p100.csv', header=False, index=False)\n",
    "birthyears.sample(frac=1/100,  random_state=seed).to_csv(fn + '_p1.csv', header=False, index=False)\n",
    "birthyears.sample(frac=10/100, random_state=seed).to_csv(fn + '_p10.csv', header=False, index=False)"
   ]
  }
 ],
 "metadata": {
  "kernelspec": {
   "display_name": "Python 3",
   "language": "python",
   "name": "python3"
  },
  "language_info": {
   "codemirror_mode": {
    "name": "ipython",
    "version": 3
   },
   "file_extension": ".py",
   "mimetype": "text/x-python",
   "name": "python",
   "nbconvert_exporter": "python",
   "pygments_lexer": "ipython3",
   "version": "3.7.4"
  }
 },
 "nbformat": 4,
 "nbformat_minor": 4
}
