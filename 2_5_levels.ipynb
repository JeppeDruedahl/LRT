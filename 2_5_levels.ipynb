{
 "cells": [
  {
   "cell_type": "markdown",
   "metadata": {},
   "source": [
    "# Setup"
   ]
  },
  {
   "cell_type": "code",
   "execution_count": null,
   "metadata": {
    "ExecuteTime": {
     "end_time": "2019-03-07T11:44:45.536490Z",
     "start_time": "2019-03-07T11:44:30.818467Z"
    }
   },
   "outputs": [],
   "source": [
    "%matplotlib inline\n",
    "%load_ext autoreload\n",
    "%autoreload 2\n",
    "    \n",
    "import time\n",
    "import copy\n",
    "\n",
    "import numpy as np\n",
    "import pandas as pd \n",
    "\n",
    "import matplotlib.pyplot as plt\n",
    "from cycler import cycler\n",
    "color_list  = ['#1f77b4','#ff7f0e','#2ca02c','#d62728','#9467bd','#8c564b','#e377c2','#7f7f7f','#bcbd22','#17becf']\n",
    "marker_list = ['o','x','d','v','^','<','>']\n",
    "\n",
    "plt.rc('axes', prop_cycle=(cycler('color',color_list)))\n",
    "\n",
    "from LRT import LRT\n",
    "from LRT import moments\n",
    "from LRT import figfuns"
   ]
  },
  {
   "cell_type": "markdown",
   "metadata": {},
   "source": [
    "**Parameter struct**"
   ]
  },
  {
   "cell_type": "code",
   "execution_count": null,
   "metadata": {
    "ExecuteTime": {
     "end_time": "2019-03-07T11:44:45.598514Z",
     "start_time": "2019-03-07T11:44:45.563479Z"
    }
   },
   "outputs": [],
   "source": [
    "par = LRT.ParStruct()\n",
    "SAMPLE = '_p100'"
   ]
  },
  {
   "cell_type": "markdown",
   "metadata": {},
   "source": [
    "## Load data"
   ]
  },
  {
   "cell_type": "markdown",
   "metadata": {},
   "source": [
    "## Logs"
   ]
  },
  {
   "cell_type": "code",
   "execution_count": null,
   "metadata": {
    "ExecuteTime": {
     "end_time": "2019-03-07T11:45:01.844097Z",
     "start_time": "2019-03-07T11:44:45.634547Z"
    },
    "scrolled": false
   },
   "outputs": [],
   "source": [
    "# a. load\n",
    "data = LRT.dataStruct()\n",
    "data.logY = np.transpose(np.genfromtxt(f'data/logY{SAMPLE}.csv',delimiter=','))\n",
    "\n",
    "par.T, par.N = data.logY.shape\n",
    "print(f'(T,N) = ({par.T},{par.N})')\n",
    "\n",
    "# b. update par\n",
    "par.simN = max([par.N,par.simN])\n",
    "par.k = 5\n",
    "par.k_lead = 30\n",
    "par.depth = 10"
   ]
  },
  {
   "cell_type": "markdown",
   "metadata": {},
   "source": [
    "## Levels"
   ]
  },
  {
   "cell_type": "code",
   "execution_count": null,
   "metadata": {
    "ExecuteTime": {
     "end_time": "2019-03-07T11:45:20.594000Z",
     "start_time": "2019-03-07T11:45:01.847102Z"
    },
    "scrolled": false
   },
   "outputs": [],
   "source": [
    "par_levels = copy.deepcopy(par)\n",
    "\n",
    "# a. load\n",
    "data_levels = LRT.dataStruct()\n",
    "data_levels.Y = np.transpose(np.genfromtxt(f'data/Y_zerocutoff{SAMPLE}.csv',delimiter=','))\n",
    "\n",
    "# remove anynone with some negative \n",
    "I = np.min(data_levels.Y, axis=0) >= 0\n",
    "data_levels.Y = data_levels.Y[:,I]\n",
    "\n",
    "par_levels.T, par_levels.N = data_levels.Y.shape\n",
    "print(f'(T,N) = ({par_levels.T},{par_levels.N})')\n",
    "\n",
    "I = data_levels.Y == 0\n",
    "print(f'share of zero observations: {I.mean()*100:.2f}')\n",
    "print(f'share of individuals with at least one zero observation: {np.max(I,axis=0).mean()*100:.2f}')\n",
    "\n",
    "# b. update par\n",
    "par_levels.simN = max([par_levels.N,par_levels.simN])\n",
    "\n",
    "# c. hack to get LRT.estimate to work\n",
    "data_levels.logY = np.copy(data_levels.Y)"
   ]
  },
  {
   "cell_type": "markdown",
   "metadata": {},
   "source": [
    "# Estimate"
   ]
  },
  {
   "cell_type": "markdown",
   "metadata": {},
   "source": [
    "## Logs"
   ]
  },
  {
   "cell_type": "code",
   "execution_count": null,
   "metadata": {
    "ExecuteTime": {
     "end_time": "2019-03-07T11:48:47.139577Z",
     "start_time": "2019-03-07T11:45:25.296497Z"
    }
   },
   "outputs": [],
   "source": [
    "model_logs = LRT.estimate(par, data, 'LRT (depth 10)')\n",
    "model_logs.name_short = 'LRT_depth_10'\n",
    "model_logs.color = color_list[0]\n",
    "model_logs.marker = marker_list[0]"
   ]
  },
  {
   "cell_type": "markdown",
   "metadata": {},
   "source": [
    "## Levels"
   ]
  },
  {
   "cell_type": "code",
   "execution_count": null,
   "metadata": {
    "ExecuteTime": {
     "end_time": "2019-03-07T11:52:04.073933Z",
     "start_time": "2019-03-07T11:48:47.146554Z"
    }
   },
   "outputs": [],
   "source": [
    "model_levels = LRT.estimate(par_levels, data_levels, 'LRT (depth 10, levels)')\n",
    "model_levels.name_short = 'LRT_depth_10_levels'\n",
    "model_levels.color = color_list[1]\n",
    "model_levels.marker = marker_list[1]"
   ]
  },
  {
   "cell_type": "markdown",
   "metadata": {},
   "source": [
    "# Simulate"
   ]
  },
  {
   "cell_type": "code",
   "execution_count": null,
   "metadata": {
    "ExecuteTime": {
     "end_time": "2019-03-07T11:58:00.158511Z",
     "start_time": "2019-03-07T11:57:30.867490Z"
    }
   },
   "outputs": [],
   "source": [
    "model_logs.data = LRT.simulate(model_logs.par,model_logs,data)\n",
    "model_logs.data.Y = np.exp(model_logs.data.logY)\n",
    "\n",
    "model_levels.data = LRT.simulate(model_levels.par,model_levels,data_levels)\n",
    "model_levels.data.Y = copy.deepcopy(model_levels.data.logY)"
   ]
  },
  {
   "cell_type": "markdown",
   "metadata": {},
   "source": [
    "# Figures"
   ]
  },
  {
   "cell_type": "code",
   "execution_count": null,
   "metadata": {
    "ExecuteTime": {
     "end_time": "2019-03-07T12:04:38.018534Z",
     "start_time": "2019-03-07T12:04:23.457633Z"
    }
   },
   "outputs": [],
   "source": [
    "models = [model_levels,model_logs]\n",
    "\n",
    "for diff in [False, True]: \n",
    "    for mom in ['mean','var','skew','kurt']: \n",
    "        figfuns.robust_age_profile(data_levels,models,mom,diff,prefix='levels',save_to_disk=True)"
   ]
  }
 ],
 "metadata": {
  "anaconda-cloud": {},
  "kernelspec": {
   "display_name": "Python 3",
   "language": "python",
   "name": "python3"
  },
  "language_info": {
   "codemirror_mode": {
    "name": "ipython",
    "version": 3
   },
   "file_extension": ".py",
   "mimetype": "text/x-python",
   "name": "python",
   "nbconvert_exporter": "python",
   "pygments_lexer": "ipython3",
   "version": "3.7.3"
  }
 },
 "nbformat": 4,
 "nbformat_minor": 2
}
