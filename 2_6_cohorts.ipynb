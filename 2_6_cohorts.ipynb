{
 "cells": [
  {
   "cell_type": "markdown",
   "metadata": {},
   "source": [
    "# Setup"
   ]
  },
  {
   "cell_type": "code",
   "execution_count": null,
   "metadata": {
    "ExecuteTime": {
     "end_time": "2019-03-04T15:29:49.737930Z",
     "start_time": "2019-03-04T15:29:45.866217Z"
    }
   },
   "outputs": [],
   "source": [
    "%matplotlib inline\n",
    "%load_ext autoreload\n",
    "%autoreload 2\n",
    "    \n",
    "import time\n",
    "import copy\n",
    "import numpy as np\n",
    "from sklearn import tree\n",
    "from io import StringIO\n",
    "from inspect import getmembers\n",
    "\n",
    "import matplotlib.pyplot as plt\n",
    "from cycler import cycler\n",
    "color_list  = ['#1f77b4','#ff7f0e','#2ca02c','#d62728','#9467bd','#8c564b','#e377c2','#7f7f7f','#bcbd22','#17becf']\n",
    "marker_list = ['o','x','*','v','^','d']\n",
    "plt.rc('axes', prop_cycle=(cycler('color',color_list)))\n",
    "\n",
    "from LRT import LRT\n",
    "from LRT import moments\n",
    "from LRT import figfuns"
   ]
  },
  {
   "cell_type": "markdown",
   "metadata": {},
   "source": [
    "**Parameter struct**"
   ]
  },
  {
   "cell_type": "code",
   "execution_count": null,
   "metadata": {
    "ExecuteTime": {
     "end_time": "2019-03-04T15:29:49.795957Z",
     "start_time": "2019-03-04T15:29:49.765956Z"
    }
   },
   "outputs": [],
   "source": [
    "par = LRT.ParStruct()\n",
    "SAMPLE = '_p100'"
   ]
  },
  {
   "cell_type": "markdown",
   "metadata": {},
   "source": [
    "## Load data"
   ]
  },
  {
   "cell_type": "code",
   "execution_count": null,
   "metadata": {
    "ExecuteTime": {
     "end_time": "2019-03-04T15:30:07.751588Z",
     "start_time": "2019-03-04T15:29:49.817013Z"
    },
    "scrolled": false
   },
   "outputs": [],
   "source": [
    "# a. load\n",
    "data = LRT.dataStruct()\n",
    "\n",
    "data.logY = np.transpose(np.genfromtxt(f'data/logY{SAMPLE}.csv',delimiter=','))\n",
    "par.T, par.N = data.logY.shape\n",
    "\n",
    "data.birthyears = np.transpose(np.genfromtxt(f'data/birthyear{SAMPLE}.csv',delimiter=','))\n",
    "data.exogenous_features = [data.birthyears for t in range(par.T)]\n",
    "\n",
    "print(f'(T,N) = ({par.T},{par.N})')\n",
    "\n",
    "# b. rescale\n",
    "Y = np.exp(data.logY)\n",
    "Y_lev = Y\n",
    "Y = Y / np.mean(Y[0,:]) # divide by avg. income at age 0\n",
    "data.logY = np.log(Y)\n",
    "    \n",
    "# c. update par\n",
    "par.simN = max([par.N,par.simN])\n",
    "par.k = 5\n",
    "par.k_lead = 30\n",
    "par.depth = 10\n",
    "\n",
    "par_dums = copy.deepcopy(par)\n",
    "par_dums.use_exogenous_features = True"
   ]
  },
  {
   "cell_type": "markdown",
   "metadata": {},
   "source": [
    "# Estimation"
   ]
  },
  {
   "cell_type": "code",
   "execution_count": null,
   "metadata": {
    "ExecuteTime": {
     "end_time": "2019-03-04T15:35:23.626527Z",
     "start_time": "2019-03-04T15:32:11.264059Z"
    }
   },
   "outputs": [],
   "source": [
    "model_base = LRT.estimate(par, data, name='LRT (baseline)', color = color_list[0])\n",
    "model_base.marker = marker_list[0]\n",
    "model_base.name_short = 'LRT_baseline'"
   ]
  },
  {
   "cell_type": "code",
   "execution_count": null,
   "metadata": {
    "ExecuteTime": {
     "end_time": "2019-03-04T15:37:49.863953Z",
     "start_time": "2019-03-04T15:35:23.657557Z"
    }
   },
   "outputs": [],
   "source": [
    "model_dums = LRT.estimate(par_dums, data, name='LRT (cohort)', color = color_list[1])\n",
    "model_dums.marker = marker_list[1]\n",
    "model_dums.name_short = 'LRT_cohort'\n",
    "model_dums.par.use_exogenous_features = True"
   ]
  },
  {
   "cell_type": "markdown",
   "metadata": {},
   "source": [
    "# Feature importance"
   ]
  },
  {
   "cell_type": "code",
   "execution_count": null,
   "metadata": {
    "ExecuteTime": {
     "end_time": "2019-03-04T15:53:07.760075Z",
     "start_time": "2019-03-04T15:53:07.722039Z"
    }
   },
   "outputs": [],
   "source": [
    "# a. years\n",
    "max_feat = max([model_dums.tree[t].n_features_ for t in range(par.T)])\n",
    "ts = [t for t in range(par.T) if model_dums.tree[t].n_features_ == max_feat] \n",
    "\n",
    "# b. feature importance\n",
    "fis = np.empty((len(ts), max_feat))\n",
    "for j in range(max_feat): \n",
    "    fis[:,j] = [model_dums.tree[t].feature_importances_[j] for t in ts]\n",
    "\n",
    "# c. print\n",
    "for j in range(max_feat): \n",
    "    if j == max_feat-1:\n",
    "        featname = 'cohorts:'\n",
    "    elif j == max_feat-2:\n",
    "        featname = 'income, current:'\n",
    "    else:\n",
    "        featname = f'income, lag {5-j}:'\n",
    "    print(f'{featname:16} {np.mean(fis[:,j]):.4f}')"
   ]
  },
  {
   "cell_type": "markdown",
   "metadata": {},
   "source": [
    "# Simulate"
   ]
  },
  {
   "cell_type": "code",
   "execution_count": null,
   "metadata": {
    "ExecuteTime": {
     "end_time": "2019-03-04T15:38:15.784630Z",
     "start_time": "2019-03-04T15:37:50.285860Z"
    }
   },
   "outputs": [],
   "source": [
    "model_base.data = LRT.simulate(model_base.par,model_base,data)\n",
    "model_dums.data = LRT.simulate(model_dums.par,model_dums,data)"
   ]
  },
  {
   "cell_type": "markdown",
   "metadata": {},
   "source": [
    "# Moments"
   ]
  },
  {
   "cell_type": "code",
   "execution_count": null,
   "metadata": {
    "ExecuteTime": {
     "end_time": "2019-03-04T16:04:02.298049Z",
     "start_time": "2019-03-04T15:59:28.169277Z"
    }
   },
   "outputs": [],
   "source": [
    "moments.calc_all(par,data,printprogress=True)\n",
    "\n",
    "models = [model_base,model_dums]\n",
    "for model in models: \n",
    "    print(model.name)\n",
    "    moments.calc_all(model.par,model.data,printprogress=True)"
   ]
  },
  {
   "cell_type": "markdown",
   "metadata": {},
   "source": [
    "## Figures "
   ]
  },
  {
   "cell_type": "code",
   "execution_count": null,
   "metadata": {
    "ExecuteTime": {
     "end_time": "2019-03-06T07:44:11.352044Z",
     "start_time": "2019-03-06T07:44:09.173957Z"
    },
    "scrolled": false
   },
   "outputs": [],
   "source": [
    "prefix = 'cohorts'\n",
    "\n",
    "figfuns.age_profile(par, data, models, 0, \n",
    "                    varname_str='logY', prefix=prefix)\n",
    "\n",
    "figfuns.age_profile(par, data, models, 1, \n",
    "                    varname_str='dlogY', prefix=prefix)\n",
    "\n",
    "figfuns.age_profile(par, data, models, 5, \n",
    "                    varname_str='dlogY', prefix=prefix)\n",
    "\n",
    "figfuns.heterogenous(par, data, models,\n",
    "                     'dlogY', 0, 'life-time growth (demeaned)',\n",
    "                     prefix=prefix, bounds=(-1.5,1.5))\n",
    "\n",
    "figfuns.heterogenous(par, data, models,\n",
    "                     'autocorr', 1, 'first-order autocorr.',\n",
    "                     prefix=prefix, bounds=(-1,1))\n",
    "\n",
    "figfuns.heterogenous(par, data, models,\n",
    "                     'autocorr_level', 1, 'first-order autocorr. (levels)',\n",
    "                     prefix=prefix, bounds=(-.25,1))\n",
    "\n",
    "figfuns.heterogenous(par, data, models,\n",
    "                     'std_dlogY', 1, 'std. of income growth',\n",
    "                     prefix=prefix, bounds=(0,0.5))"
   ]
  }
 ],
 "metadata": {
  "anaconda-cloud": {},
  "kernelspec": {
   "display_name": "Python 3",
   "language": "python",
   "name": "python3"
  },
  "language_info": {
   "codemirror_mode": {
    "name": "ipython",
    "version": 3
   },
   "file_extension": ".py",
   "mimetype": "text/x-python",
   "name": "python",
   "nbconvert_exporter": "python",
   "pygments_lexer": "ipython3",
   "version": "3.7.3"
  }
 },
 "nbformat": 4,
 "nbformat_minor": 2
}
